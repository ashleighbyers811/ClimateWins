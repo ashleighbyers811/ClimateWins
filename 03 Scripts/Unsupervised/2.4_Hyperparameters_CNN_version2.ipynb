{
 "cells": [
  {
   "cell_type": "markdown",
   "id": "c44af085-fe0f-4ff9-afb1-0c6271e54252",
   "metadata": {},
   "source": [
    "# This script includes: \n",
    "\n",
    "## 1. Import libraries\n",
    "## 2. Import data\n",
    "## 3. Data pre-processing\n",
    "    3.1 Reshape data\n",
    "    3.2 Split data\n",
    "## 4. Set up Bayesian optimizer\n",
    "## 5. CNN model with optimized hyperparameters\n",
    "    5.1 Run the CNN model\n",
    "    5.2 Make predictions\n",
    "    5.3 Classification reports\n",
    "    5.4 Confusion matrices"
   ]
  },
  {
   "cell_type": "markdown",
   "id": "b7c59167-4a99-42cd-b9e8-f768037d13f7",
   "metadata": {},
   "source": [
    "## 1. Import libraries"
   ]
  },
  {
   "cell_type": "code",
   "execution_count": 1,
   "id": "fbcfe505-b77c-4f67-8435-a1f1d362b374",
   "metadata": {},
   "outputs": [],
   "source": [
    "# Import libraries\n",
    "\n",
    "import pandas as pd\n",
    "import numpy as np\n",
    "import os\n",
    "import seaborn as sns\n",
    "import operator\n",
    "import time\n",
    "import matplotlib.pyplot as plt\n",
    "from sklearn.preprocessing import LabelEncoder\n",
    "import tensorflow as tf\n",
    "from numpy import unique\n",
    "from numpy import reshape\n",
    "from sklearn.model_selection import train_test_split\n",
    "from keras.models import Sequential\n",
    "from keras.layers import Conv1D, Conv2D, Dense, Dropout, BatchNormalization, Flatten, MaxPooling1D\n",
    "from tensorflow.keras.utils import to_categorical\n",
    "from sklearn.preprocessing import StandardScaler\n",
    "from sklearn.metrics import f1_score\n",
    "from sklearn.metrics import classification_report\n",
    "from keras.layers import Conv1D, Conv2D, Dense, Dropout, BatchNormalization, Flatten, MaxPooling1D\n",
    "from keras.layers import Dense, Dropout\n",
    "from tensorflow.keras.utils import to_categorical\n",
    "from keras.optimizers import Adam, SGD, RMSprop, Adadelta, Adagrad, Adamax, Nadam, Ftrl\n",
    "from keras.callbacks import EarlyStopping, ModelCheckpoint\n",
    "from scikeras.wrappers import KerasClassifier\n",
    "from math import floor\n",
    "from sklearn.metrics import make_scorer, accuracy_score, f1_score\n",
    "from sklearn.model_selection import cross_val_score, StratifiedKFold\n",
    "from sklearn.preprocessing import StandardScaler\n",
    "from bayes_opt import BayesianOptimization\n",
    "from sklearn.model_selection import KFold\n",
    "from keras.layers import LeakyReLU"
   ]
  },
  {
   "cell_type": "markdown",
   "id": "71b1b69a-06b1-4e9a-b47b-29b39131d7bd",
   "metadata": {},
   "source": [
    "## 2. Import data"
   ]
  },
  {
   "cell_type": "code",
   "execution_count": 2,
   "id": "95313321-b6d4-41ba-a0cc-ff630d9244ad",
   "metadata": {},
   "outputs": [],
   "source": [
    "# Import data\n",
    "\n",
    "path = r'C:\\Users\\ashle\\Documents\\10-2024 Climate Analysis'\n",
    "\n",
    "X = pd.read_csv(os.path.join(path, '02 Data Sets', 'X_weather_data_cleaned_preprocessed.csv'),index_col = False) \n",
    "y = pd.read_csv(os.path.join(path, '02 Data Sets', 'y_pleasant_cleaned_preprocessed.csv'),index_col = False) "
   ]
  },
  {
   "cell_type": "markdown",
   "id": "150d70ae-e926-41ec-9dbf-3fdbc32f3354",
   "metadata": {},
   "source": [
    "## 3. Data pre-processing"
   ]
  },
  {
   "cell_type": "markdown",
   "id": "123f9818-b942-4347-9d7b-7273580a743b",
   "metadata": {},
   "source": [
    "### 3.1 Reshape data"
   ]
  },
  {
   "cell_type": "code",
   "execution_count": 3,
   "id": "f60e2363-607b-4124-844b-2301e41fefcf",
   "metadata": {},
   "outputs": [
    {
     "data": {
      "text/html": [
       "<div>\n",
       "<style scoped>\n",
       "    .dataframe tbody tr th:only-of-type {\n",
       "        vertical-align: middle;\n",
       "    }\n",
       "\n",
       "    .dataframe tbody tr th {\n",
       "        vertical-align: top;\n",
       "    }\n",
       "\n",
       "    .dataframe thead th {\n",
       "        text-align: right;\n",
       "    }\n",
       "</style>\n",
       "<table border=\"1\" class=\"dataframe\">\n",
       "  <thead>\n",
       "    <tr style=\"text-align: right;\">\n",
       "      <th></th>\n",
       "      <th>BASEL_cloud_cover</th>\n",
       "      <th>BASEL_humidity</th>\n",
       "      <th>BASEL_pressure</th>\n",
       "      <th>BASEL_global_radiation</th>\n",
       "      <th>BASEL_precipitation</th>\n",
       "      <th>BASEL_sunshine</th>\n",
       "      <th>BASEL_temp_mean</th>\n",
       "      <th>BASEL_temp_min</th>\n",
       "      <th>BASEL_temp_max</th>\n",
       "      <th>BELGRADE_cloud_cover</th>\n",
       "      <th>...</th>\n",
       "      <th>STOCKHOLM_temp_max</th>\n",
       "      <th>VALENTIA_cloud_cover</th>\n",
       "      <th>VALENTIA_humidity</th>\n",
       "      <th>VALENTIA_pressure</th>\n",
       "      <th>VALENTIA_global_radiation</th>\n",
       "      <th>VALENTIA_precipitation</th>\n",
       "      <th>VALENTIA_sunshine</th>\n",
       "      <th>VALENTIA_temp_mean</th>\n",
       "      <th>VALENTIA_temp_min</th>\n",
       "      <th>VALENTIA_temp_max</th>\n",
       "    </tr>\n",
       "  </thead>\n",
       "  <tbody>\n",
       "    <tr>\n",
       "      <th>0</th>\n",
       "      <td>7</td>\n",
       "      <td>0.85</td>\n",
       "      <td>1.0180</td>\n",
       "      <td>0.32</td>\n",
       "      <td>0.09</td>\n",
       "      <td>0.7</td>\n",
       "      <td>6.5</td>\n",
       "      <td>0.8</td>\n",
       "      <td>10.9</td>\n",
       "      <td>1</td>\n",
       "      <td>...</td>\n",
       "      <td>4.9</td>\n",
       "      <td>5</td>\n",
       "      <td>0.88</td>\n",
       "      <td>1.0003</td>\n",
       "      <td>0.45</td>\n",
       "      <td>0.34</td>\n",
       "      <td>4.7</td>\n",
       "      <td>8.5</td>\n",
       "      <td>6.0</td>\n",
       "      <td>10.9</td>\n",
       "    </tr>\n",
       "    <tr>\n",
       "      <th>1</th>\n",
       "      <td>6</td>\n",
       "      <td>0.84</td>\n",
       "      <td>1.0180</td>\n",
       "      <td>0.36</td>\n",
       "      <td>1.05</td>\n",
       "      <td>1.1</td>\n",
       "      <td>6.1</td>\n",
       "      <td>3.3</td>\n",
       "      <td>10.1</td>\n",
       "      <td>6</td>\n",
       "      <td>...</td>\n",
       "      <td>5.0</td>\n",
       "      <td>7</td>\n",
       "      <td>0.91</td>\n",
       "      <td>1.0007</td>\n",
       "      <td>0.25</td>\n",
       "      <td>0.84</td>\n",
       "      <td>0.7</td>\n",
       "      <td>8.9</td>\n",
       "      <td>5.6</td>\n",
       "      <td>12.1</td>\n",
       "    </tr>\n",
       "    <tr>\n",
       "      <th>2</th>\n",
       "      <td>8</td>\n",
       "      <td>0.90</td>\n",
       "      <td>1.0180</td>\n",
       "      <td>0.18</td>\n",
       "      <td>0.30</td>\n",
       "      <td>0.0</td>\n",
       "      <td>8.5</td>\n",
       "      <td>5.1</td>\n",
       "      <td>9.9</td>\n",
       "      <td>6</td>\n",
       "      <td>...</td>\n",
       "      <td>4.1</td>\n",
       "      <td>7</td>\n",
       "      <td>0.91</td>\n",
       "      <td>1.0096</td>\n",
       "      <td>0.17</td>\n",
       "      <td>0.08</td>\n",
       "      <td>0.1</td>\n",
       "      <td>10.5</td>\n",
       "      <td>8.1</td>\n",
       "      <td>12.9</td>\n",
       "    </tr>\n",
       "    <tr>\n",
       "      <th>3</th>\n",
       "      <td>3</td>\n",
       "      <td>0.92</td>\n",
       "      <td>1.0180</td>\n",
       "      <td>0.58</td>\n",
       "      <td>0.00</td>\n",
       "      <td>4.1</td>\n",
       "      <td>6.3</td>\n",
       "      <td>3.8</td>\n",
       "      <td>10.6</td>\n",
       "      <td>8</td>\n",
       "      <td>...</td>\n",
       "      <td>2.3</td>\n",
       "      <td>7</td>\n",
       "      <td>0.86</td>\n",
       "      <td>1.0184</td>\n",
       "      <td>0.13</td>\n",
       "      <td>0.98</td>\n",
       "      <td>0.0</td>\n",
       "      <td>7.4</td>\n",
       "      <td>7.3</td>\n",
       "      <td>10.6</td>\n",
       "    </tr>\n",
       "    <tr>\n",
       "      <th>4</th>\n",
       "      <td>6</td>\n",
       "      <td>0.95</td>\n",
       "      <td>1.0180</td>\n",
       "      <td>0.65</td>\n",
       "      <td>0.14</td>\n",
       "      <td>5.4</td>\n",
       "      <td>3.0</td>\n",
       "      <td>-0.7</td>\n",
       "      <td>6.0</td>\n",
       "      <td>8</td>\n",
       "      <td>...</td>\n",
       "      <td>4.3</td>\n",
       "      <td>3</td>\n",
       "      <td>0.80</td>\n",
       "      <td>1.0328</td>\n",
       "      <td>0.46</td>\n",
       "      <td>0.00</td>\n",
       "      <td>5.7</td>\n",
       "      <td>5.7</td>\n",
       "      <td>3.0</td>\n",
       "      <td>8.4</td>\n",
       "    </tr>\n",
       "    <tr>\n",
       "      <th>...</th>\n",
       "      <td>...</td>\n",
       "      <td>...</td>\n",
       "      <td>...</td>\n",
       "      <td>...</td>\n",
       "      <td>...</td>\n",
       "      <td>...</td>\n",
       "      <td>...</td>\n",
       "      <td>...</td>\n",
       "      <td>...</td>\n",
       "      <td>...</td>\n",
       "      <td>...</td>\n",
       "      <td>...</td>\n",
       "      <td>...</td>\n",
       "      <td>...</td>\n",
       "      <td>...</td>\n",
       "      <td>...</td>\n",
       "      <td>...</td>\n",
       "      <td>...</td>\n",
       "      <td>...</td>\n",
       "      <td>...</td>\n",
       "      <td>...</td>\n",
       "    </tr>\n",
       "    <tr>\n",
       "      <th>22945</th>\n",
       "      <td>1</td>\n",
       "      <td>0.79</td>\n",
       "      <td>1.0248</td>\n",
       "      <td>1.34</td>\n",
       "      <td>0.22</td>\n",
       "      <td>7.7</td>\n",
       "      <td>15.9</td>\n",
       "      <td>11.4</td>\n",
       "      <td>21.4</td>\n",
       "      <td>2</td>\n",
       "      <td>...</td>\n",
       "      <td>14.2</td>\n",
       "      <td>5</td>\n",
       "      <td>0.82</td>\n",
       "      <td>1.0142</td>\n",
       "      <td>1.13</td>\n",
       "      <td>0.41</td>\n",
       "      <td>3.4</td>\n",
       "      <td>10.7</td>\n",
       "      <td>7.9</td>\n",
       "      <td>13.5</td>\n",
       "    </tr>\n",
       "    <tr>\n",
       "      <th>22946</th>\n",
       "      <td>6</td>\n",
       "      <td>0.77</td>\n",
       "      <td>1.0244</td>\n",
       "      <td>1.34</td>\n",
       "      <td>0.22</td>\n",
       "      <td>5.4</td>\n",
       "      <td>16.7</td>\n",
       "      <td>14.3</td>\n",
       "      <td>21.9</td>\n",
       "      <td>0</td>\n",
       "      <td>...</td>\n",
       "      <td>14.3</td>\n",
       "      <td>5</td>\n",
       "      <td>0.82</td>\n",
       "      <td>1.0142</td>\n",
       "      <td>1.13</td>\n",
       "      <td>0.41</td>\n",
       "      <td>3.4</td>\n",
       "      <td>10.7</td>\n",
       "      <td>7.9</td>\n",
       "      <td>13.5</td>\n",
       "    </tr>\n",
       "    <tr>\n",
       "      <th>22947</th>\n",
       "      <td>4</td>\n",
       "      <td>0.76</td>\n",
       "      <td>1.0227</td>\n",
       "      <td>1.34</td>\n",
       "      <td>0.22</td>\n",
       "      <td>6.1</td>\n",
       "      <td>16.7</td>\n",
       "      <td>13.1</td>\n",
       "      <td>22.4</td>\n",
       "      <td>2</td>\n",
       "      <td>...</td>\n",
       "      <td>14.4</td>\n",
       "      <td>5</td>\n",
       "      <td>0.82</td>\n",
       "      <td>1.0142</td>\n",
       "      <td>1.13</td>\n",
       "      <td>0.41</td>\n",
       "      <td>3.4</td>\n",
       "      <td>10.7</td>\n",
       "      <td>7.9</td>\n",
       "      <td>13.5</td>\n",
       "    </tr>\n",
       "    <tr>\n",
       "      <th>22948</th>\n",
       "      <td>5</td>\n",
       "      <td>0.80</td>\n",
       "      <td>1.0212</td>\n",
       "      <td>1.34</td>\n",
       "      <td>0.22</td>\n",
       "      <td>5.8</td>\n",
       "      <td>15.4</td>\n",
       "      <td>11.6</td>\n",
       "      <td>21.1</td>\n",
       "      <td>1</td>\n",
       "      <td>...</td>\n",
       "      <td>12.4</td>\n",
       "      <td>5</td>\n",
       "      <td>0.82</td>\n",
       "      <td>1.0142</td>\n",
       "      <td>1.13</td>\n",
       "      <td>0.41</td>\n",
       "      <td>3.4</td>\n",
       "      <td>10.7</td>\n",
       "      <td>7.9</td>\n",
       "      <td>13.5</td>\n",
       "    </tr>\n",
       "    <tr>\n",
       "      <th>22949</th>\n",
       "      <td>5</td>\n",
       "      <td>0.84</td>\n",
       "      <td>1.0193</td>\n",
       "      <td>1.34</td>\n",
       "      <td>0.22</td>\n",
       "      <td>3.2</td>\n",
       "      <td>13.5</td>\n",
       "      <td>9.9</td>\n",
       "      <td>19.2</td>\n",
       "      <td>4</td>\n",
       "      <td>...</td>\n",
       "      <td>12.6</td>\n",
       "      <td>5</td>\n",
       "      <td>0.82</td>\n",
       "      <td>1.0142</td>\n",
       "      <td>1.13</td>\n",
       "      <td>0.41</td>\n",
       "      <td>3.4</td>\n",
       "      <td>10.7</td>\n",
       "      <td>7.9</td>\n",
       "      <td>13.5</td>\n",
       "    </tr>\n",
       "  </tbody>\n",
       "</table>\n",
       "<p>22950 rows × 135 columns</p>\n",
       "</div>"
      ],
      "text/plain": [
       "       BASEL_cloud_cover  BASEL_humidity  BASEL_pressure  \\\n",
       "0                      7            0.85          1.0180   \n",
       "1                      6            0.84          1.0180   \n",
       "2                      8            0.90          1.0180   \n",
       "3                      3            0.92          1.0180   \n",
       "4                      6            0.95          1.0180   \n",
       "...                  ...             ...             ...   \n",
       "22945                  1            0.79          1.0248   \n",
       "22946                  6            0.77          1.0244   \n",
       "22947                  4            0.76          1.0227   \n",
       "22948                  5            0.80          1.0212   \n",
       "22949                  5            0.84          1.0193   \n",
       "\n",
       "       BASEL_global_radiation  BASEL_precipitation  BASEL_sunshine  \\\n",
       "0                        0.32                 0.09             0.7   \n",
       "1                        0.36                 1.05             1.1   \n",
       "2                        0.18                 0.30             0.0   \n",
       "3                        0.58                 0.00             4.1   \n",
       "4                        0.65                 0.14             5.4   \n",
       "...                       ...                  ...             ...   \n",
       "22945                    1.34                 0.22             7.7   \n",
       "22946                    1.34                 0.22             5.4   \n",
       "22947                    1.34                 0.22             6.1   \n",
       "22948                    1.34                 0.22             5.8   \n",
       "22949                    1.34                 0.22             3.2   \n",
       "\n",
       "       BASEL_temp_mean  BASEL_temp_min  BASEL_temp_max  BELGRADE_cloud_cover  \\\n",
       "0                  6.5             0.8            10.9                     1   \n",
       "1                  6.1             3.3            10.1                     6   \n",
       "2                  8.5             5.1             9.9                     6   \n",
       "3                  6.3             3.8            10.6                     8   \n",
       "4                  3.0            -0.7             6.0                     8   \n",
       "...                ...             ...             ...                   ...   \n",
       "22945             15.9            11.4            21.4                     2   \n",
       "22946             16.7            14.3            21.9                     0   \n",
       "22947             16.7            13.1            22.4                     2   \n",
       "22948             15.4            11.6            21.1                     1   \n",
       "22949             13.5             9.9            19.2                     4   \n",
       "\n",
       "       ...  STOCKHOLM_temp_max  VALENTIA_cloud_cover  VALENTIA_humidity  \\\n",
       "0      ...                 4.9                     5               0.88   \n",
       "1      ...                 5.0                     7               0.91   \n",
       "2      ...                 4.1                     7               0.91   \n",
       "3      ...                 2.3                     7               0.86   \n",
       "4      ...                 4.3                     3               0.80   \n",
       "...    ...                 ...                   ...                ...   \n",
       "22945  ...                14.2                     5               0.82   \n",
       "22946  ...                14.3                     5               0.82   \n",
       "22947  ...                14.4                     5               0.82   \n",
       "22948  ...                12.4                     5               0.82   \n",
       "22949  ...                12.6                     5               0.82   \n",
       "\n",
       "       VALENTIA_pressure  VALENTIA_global_radiation  VALENTIA_precipitation  \\\n",
       "0                 1.0003                       0.45                    0.34   \n",
       "1                 1.0007                       0.25                    0.84   \n",
       "2                 1.0096                       0.17                    0.08   \n",
       "3                 1.0184                       0.13                    0.98   \n",
       "4                 1.0328                       0.46                    0.00   \n",
       "...                  ...                        ...                     ...   \n",
       "22945             1.0142                       1.13                    0.41   \n",
       "22946             1.0142                       1.13                    0.41   \n",
       "22947             1.0142                       1.13                    0.41   \n",
       "22948             1.0142                       1.13                    0.41   \n",
       "22949             1.0142                       1.13                    0.41   \n",
       "\n",
       "       VALENTIA_sunshine  VALENTIA_temp_mean  VALENTIA_temp_min  \\\n",
       "0                    4.7                 8.5                6.0   \n",
       "1                    0.7                 8.9                5.6   \n",
       "2                    0.1                10.5                8.1   \n",
       "3                    0.0                 7.4                7.3   \n",
       "4                    5.7                 5.7                3.0   \n",
       "...                  ...                 ...                ...   \n",
       "22945                3.4                10.7                7.9   \n",
       "22946                3.4                10.7                7.9   \n",
       "22947                3.4                10.7                7.9   \n",
       "22948                3.4                10.7                7.9   \n",
       "22949                3.4                10.7                7.9   \n",
       "\n",
       "       VALENTIA_temp_max  \n",
       "0                   10.9  \n",
       "1                   12.1  \n",
       "2                   12.9  \n",
       "3                   10.6  \n",
       "4                    8.4  \n",
       "...                  ...  \n",
       "22945               13.5  \n",
       "22946               13.5  \n",
       "22947               13.5  \n",
       "22948               13.5  \n",
       "22949               13.5  \n",
       "\n",
       "[22950 rows x 135 columns]"
      ]
     },
     "execution_count": 3,
     "metadata": {},
     "output_type": "execute_result"
    }
   ],
   "source": [
    "X"
   ]
  },
  {
   "cell_type": "code",
   "execution_count": 7,
   "id": "579cd9b2-6e95-4c3a-a50b-00413d9aacd5",
   "metadata": {},
   "outputs": [
    {
     "data": {
      "text/plain": [
       "(22950, 135)"
      ]
     },
     "execution_count": 7,
     "metadata": {},
     "output_type": "execute_result"
    }
   ],
   "source": [
    "X.shape"
   ]
  },
  {
   "cell_type": "code",
   "execution_count": 9,
   "id": "9af5ac99-b357-4050-af9e-3448a66f2500",
   "metadata": {},
   "outputs": [
    {
     "data": {
      "text/html": [
       "<div>\n",
       "<style scoped>\n",
       "    .dataframe tbody tr th:only-of-type {\n",
       "        vertical-align: middle;\n",
       "    }\n",
       "\n",
       "    .dataframe tbody tr th {\n",
       "        vertical-align: top;\n",
       "    }\n",
       "\n",
       "    .dataframe thead th {\n",
       "        text-align: right;\n",
       "    }\n",
       "</style>\n",
       "<table border=\"1\" class=\"dataframe\">\n",
       "  <thead>\n",
       "    <tr style=\"text-align: right;\">\n",
       "      <th></th>\n",
       "      <th>BASEL_pleasant_weather</th>\n",
       "      <th>BELGRADE_pleasant_weather</th>\n",
       "      <th>BUDAPEST_pleasant_weather</th>\n",
       "      <th>DEBILT_pleasant_weather</th>\n",
       "      <th>DUSSELDORF_pleasant_weather</th>\n",
       "      <th>HEATHROW_pleasant_weather</th>\n",
       "      <th>KASSEL_pleasant_weather</th>\n",
       "      <th>LJUBLJANA_pleasant_weather</th>\n",
       "      <th>MAASTRICHT_pleasant_weather</th>\n",
       "      <th>MADRID_pleasant_weather</th>\n",
       "      <th>MUNCHENB_pleasant_weather</th>\n",
       "      <th>OSLO_pleasant_weather</th>\n",
       "      <th>SONNBLICK_pleasant_weather</th>\n",
       "      <th>STOCKHOLM_pleasant_weather</th>\n",
       "      <th>VALENTIA_pleasant_weather</th>\n",
       "    </tr>\n",
       "  </thead>\n",
       "  <tbody>\n",
       "    <tr>\n",
       "      <th>0</th>\n",
       "      <td>0</td>\n",
       "      <td>0</td>\n",
       "      <td>0</td>\n",
       "      <td>0</td>\n",
       "      <td>0</td>\n",
       "      <td>0</td>\n",
       "      <td>0</td>\n",
       "      <td>0</td>\n",
       "      <td>0</td>\n",
       "      <td>0</td>\n",
       "      <td>0</td>\n",
       "      <td>0</td>\n",
       "      <td>0</td>\n",
       "      <td>0</td>\n",
       "      <td>0</td>\n",
       "    </tr>\n",
       "    <tr>\n",
       "      <th>1</th>\n",
       "      <td>0</td>\n",
       "      <td>0</td>\n",
       "      <td>0</td>\n",
       "      <td>0</td>\n",
       "      <td>0</td>\n",
       "      <td>0</td>\n",
       "      <td>0</td>\n",
       "      <td>0</td>\n",
       "      <td>0</td>\n",
       "      <td>0</td>\n",
       "      <td>0</td>\n",
       "      <td>0</td>\n",
       "      <td>0</td>\n",
       "      <td>0</td>\n",
       "      <td>0</td>\n",
       "    </tr>\n",
       "    <tr>\n",
       "      <th>2</th>\n",
       "      <td>0</td>\n",
       "      <td>0</td>\n",
       "      <td>0</td>\n",
       "      <td>0</td>\n",
       "      <td>0</td>\n",
       "      <td>0</td>\n",
       "      <td>0</td>\n",
       "      <td>0</td>\n",
       "      <td>0</td>\n",
       "      <td>0</td>\n",
       "      <td>0</td>\n",
       "      <td>0</td>\n",
       "      <td>0</td>\n",
       "      <td>0</td>\n",
       "      <td>0</td>\n",
       "    </tr>\n",
       "    <tr>\n",
       "      <th>3</th>\n",
       "      <td>0</td>\n",
       "      <td>0</td>\n",
       "      <td>0</td>\n",
       "      <td>0</td>\n",
       "      <td>0</td>\n",
       "      <td>0</td>\n",
       "      <td>0</td>\n",
       "      <td>0</td>\n",
       "      <td>0</td>\n",
       "      <td>0</td>\n",
       "      <td>0</td>\n",
       "      <td>0</td>\n",
       "      <td>0</td>\n",
       "      <td>0</td>\n",
       "      <td>0</td>\n",
       "    </tr>\n",
       "    <tr>\n",
       "      <th>4</th>\n",
       "      <td>0</td>\n",
       "      <td>0</td>\n",
       "      <td>0</td>\n",
       "      <td>0</td>\n",
       "      <td>0</td>\n",
       "      <td>0</td>\n",
       "      <td>0</td>\n",
       "      <td>0</td>\n",
       "      <td>0</td>\n",
       "      <td>0</td>\n",
       "      <td>0</td>\n",
       "      <td>0</td>\n",
       "      <td>0</td>\n",
       "      <td>0</td>\n",
       "      <td>0</td>\n",
       "    </tr>\n",
       "    <tr>\n",
       "      <th>...</th>\n",
       "      <td>...</td>\n",
       "      <td>...</td>\n",
       "      <td>...</td>\n",
       "      <td>...</td>\n",
       "      <td>...</td>\n",
       "      <td>...</td>\n",
       "      <td>...</td>\n",
       "      <td>...</td>\n",
       "      <td>...</td>\n",
       "      <td>...</td>\n",
       "      <td>...</td>\n",
       "      <td>...</td>\n",
       "      <td>...</td>\n",
       "      <td>...</td>\n",
       "      <td>...</td>\n",
       "    </tr>\n",
       "    <tr>\n",
       "      <th>22945</th>\n",
       "      <td>0</td>\n",
       "      <td>0</td>\n",
       "      <td>0</td>\n",
       "      <td>0</td>\n",
       "      <td>0</td>\n",
       "      <td>0</td>\n",
       "      <td>0</td>\n",
       "      <td>0</td>\n",
       "      <td>0</td>\n",
       "      <td>0</td>\n",
       "      <td>0</td>\n",
       "      <td>0</td>\n",
       "      <td>0</td>\n",
       "      <td>0</td>\n",
       "      <td>0</td>\n",
       "    </tr>\n",
       "    <tr>\n",
       "      <th>22946</th>\n",
       "      <td>0</td>\n",
       "      <td>0</td>\n",
       "      <td>0</td>\n",
       "      <td>0</td>\n",
       "      <td>0</td>\n",
       "      <td>0</td>\n",
       "      <td>0</td>\n",
       "      <td>0</td>\n",
       "      <td>0</td>\n",
       "      <td>0</td>\n",
       "      <td>0</td>\n",
       "      <td>0</td>\n",
       "      <td>0</td>\n",
       "      <td>0</td>\n",
       "      <td>0</td>\n",
       "    </tr>\n",
       "    <tr>\n",
       "      <th>22947</th>\n",
       "      <td>0</td>\n",
       "      <td>0</td>\n",
       "      <td>0</td>\n",
       "      <td>0</td>\n",
       "      <td>0</td>\n",
       "      <td>0</td>\n",
       "      <td>0</td>\n",
       "      <td>0</td>\n",
       "      <td>0</td>\n",
       "      <td>0</td>\n",
       "      <td>0</td>\n",
       "      <td>0</td>\n",
       "      <td>0</td>\n",
       "      <td>0</td>\n",
       "      <td>0</td>\n",
       "    </tr>\n",
       "    <tr>\n",
       "      <th>22948</th>\n",
       "      <td>0</td>\n",
       "      <td>0</td>\n",
       "      <td>0</td>\n",
       "      <td>0</td>\n",
       "      <td>0</td>\n",
       "      <td>0</td>\n",
       "      <td>0</td>\n",
       "      <td>0</td>\n",
       "      <td>0</td>\n",
       "      <td>0</td>\n",
       "      <td>0</td>\n",
       "      <td>0</td>\n",
       "      <td>0</td>\n",
       "      <td>0</td>\n",
       "      <td>0</td>\n",
       "    </tr>\n",
       "    <tr>\n",
       "      <th>22949</th>\n",
       "      <td>0</td>\n",
       "      <td>0</td>\n",
       "      <td>0</td>\n",
       "      <td>0</td>\n",
       "      <td>0</td>\n",
       "      <td>0</td>\n",
       "      <td>0</td>\n",
       "      <td>0</td>\n",
       "      <td>0</td>\n",
       "      <td>0</td>\n",
       "      <td>0</td>\n",
       "      <td>0</td>\n",
       "      <td>0</td>\n",
       "      <td>0</td>\n",
       "      <td>0</td>\n",
       "    </tr>\n",
       "  </tbody>\n",
       "</table>\n",
       "<p>22950 rows × 15 columns</p>\n",
       "</div>"
      ],
      "text/plain": [
       "       BASEL_pleasant_weather  BELGRADE_pleasant_weather  \\\n",
       "0                           0                          0   \n",
       "1                           0                          0   \n",
       "2                           0                          0   \n",
       "3                           0                          0   \n",
       "4                           0                          0   \n",
       "...                       ...                        ...   \n",
       "22945                       0                          0   \n",
       "22946                       0                          0   \n",
       "22947                       0                          0   \n",
       "22948                       0                          0   \n",
       "22949                       0                          0   \n",
       "\n",
       "       BUDAPEST_pleasant_weather  DEBILT_pleasant_weather  \\\n",
       "0                              0                        0   \n",
       "1                              0                        0   \n",
       "2                              0                        0   \n",
       "3                              0                        0   \n",
       "4                              0                        0   \n",
       "...                          ...                      ...   \n",
       "22945                          0                        0   \n",
       "22946                          0                        0   \n",
       "22947                          0                        0   \n",
       "22948                          0                        0   \n",
       "22949                          0                        0   \n",
       "\n",
       "       DUSSELDORF_pleasant_weather  HEATHROW_pleasant_weather  \\\n",
       "0                                0                          0   \n",
       "1                                0                          0   \n",
       "2                                0                          0   \n",
       "3                                0                          0   \n",
       "4                                0                          0   \n",
       "...                            ...                        ...   \n",
       "22945                            0                          0   \n",
       "22946                            0                          0   \n",
       "22947                            0                          0   \n",
       "22948                            0                          0   \n",
       "22949                            0                          0   \n",
       "\n",
       "       KASSEL_pleasant_weather  LJUBLJANA_pleasant_weather  \\\n",
       "0                            0                           0   \n",
       "1                            0                           0   \n",
       "2                            0                           0   \n",
       "3                            0                           0   \n",
       "4                            0                           0   \n",
       "...                        ...                         ...   \n",
       "22945                        0                           0   \n",
       "22946                        0                           0   \n",
       "22947                        0                           0   \n",
       "22948                        0                           0   \n",
       "22949                        0                           0   \n",
       "\n",
       "       MAASTRICHT_pleasant_weather  MADRID_pleasant_weather  \\\n",
       "0                                0                        0   \n",
       "1                                0                        0   \n",
       "2                                0                        0   \n",
       "3                                0                        0   \n",
       "4                                0                        0   \n",
       "...                            ...                      ...   \n",
       "22945                            0                        0   \n",
       "22946                            0                        0   \n",
       "22947                            0                        0   \n",
       "22948                            0                        0   \n",
       "22949                            0                        0   \n",
       "\n",
       "       MUNCHENB_pleasant_weather  OSLO_pleasant_weather  \\\n",
       "0                              0                      0   \n",
       "1                              0                      0   \n",
       "2                              0                      0   \n",
       "3                              0                      0   \n",
       "4                              0                      0   \n",
       "...                          ...                    ...   \n",
       "22945                          0                      0   \n",
       "22946                          0                      0   \n",
       "22947                          0                      0   \n",
       "22948                          0                      0   \n",
       "22949                          0                      0   \n",
       "\n",
       "       SONNBLICK_pleasant_weather  STOCKHOLM_pleasant_weather  \\\n",
       "0                               0                           0   \n",
       "1                               0                           0   \n",
       "2                               0                           0   \n",
       "3                               0                           0   \n",
       "4                               0                           0   \n",
       "...                           ...                         ...   \n",
       "22945                           0                           0   \n",
       "22946                           0                           0   \n",
       "22947                           0                           0   \n",
       "22948                           0                           0   \n",
       "22949                           0                           0   \n",
       "\n",
       "       VALENTIA_pleasant_weather  \n",
       "0                              0  \n",
       "1                              0  \n",
       "2                              0  \n",
       "3                              0  \n",
       "4                              0  \n",
       "...                          ...  \n",
       "22945                          0  \n",
       "22946                          0  \n",
       "22947                          0  \n",
       "22948                          0  \n",
       "22949                          0  \n",
       "\n",
       "[22950 rows x 15 columns]"
      ]
     },
     "execution_count": 9,
     "metadata": {},
     "output_type": "execute_result"
    }
   ],
   "source": [
    "y"
   ]
  },
  {
   "cell_type": "code",
   "execution_count": 11,
   "id": "1a8dddb4-30a4-449a-9798-97672c458902",
   "metadata": {},
   "outputs": [
    {
     "data": {
      "text/plain": [
       "(22950, 15)"
      ]
     },
     "execution_count": 11,
     "metadata": {},
     "output_type": "execute_result"
    }
   ],
   "source": [
    "y.shape"
   ]
  },
  {
   "cell_type": "code",
   "execution_count": 13,
   "id": "711bff8d-4153-4201-91eb-a3aaf82277c2",
   "metadata": {},
   "outputs": [
    {
     "name": "stdout",
     "output_type": "stream",
     "text": [
      "X shape:  (22950, 15, 9)\n",
      "y shape:  (22950, 15)\n"
     ]
    }
   ],
   "source": [
    "# Convert variables into numpy arrays\n",
    "X = X.to_numpy()\n",
    "y = y.to_numpy()\n",
    "\n",
    "# Split X into 15 groups of 9 types of observations\n",
    "X = X.reshape(-1, 15, 9)\n",
    "\n",
    "# Check the shapes\n",
    "print('X shape: ', X.shape) # should be (22950, 15, 9)\n",
    "print('y shape: ', y.shape) # should be (22950, 15)"
   ]
  },
  {
   "cell_type": "markdown",
   "id": "f6fe5cd2-05c5-440e-bd54-720e3ab93733",
   "metadata": {},
   "source": [
    "### 3.2 Split data"
   ]
  },
  {
   "cell_type": "code",
   "execution_count": 15,
   "id": "2321f528-2919-4230-a751-0195a0d6bf48",
   "metadata": {},
   "outputs": [],
   "source": [
    "# Split the data into two sets: a training and a test set\n",
    "X_train, X_test, y_train, y_test = train_test_split(X, y, test_size = 0.3, random_state = 62)"
   ]
  },
  {
   "cell_type": "code",
   "execution_count": 17,
   "id": "8c44e251-28de-47fd-9bad-c4a8eb0419e7",
   "metadata": {},
   "outputs": [
    {
     "name": "stdout",
     "output_type": "stream",
     "text": [
      "X_train shape:  (16065, 15, 9)\n",
      "y_train shape:  (16065, 15)\n",
      "X_test shape:  (6885, 15, 9)\n",
      "y_test shape:  (6885, 15)\n"
     ]
    }
   ],
   "source": [
    "# Check shape of each test and train set\n",
    "print('X_train shape: ', X_train.shape)\n",
    "print('y_train shape: ', y_train.shape)\n",
    "print('X_test shape: ', X_test.shape)\n",
    "print('y_test shape: ', y_test.shape)"
   ]
  },
  {
   "cell_type": "code",
   "execution_count": 19,
   "id": "ae79f122-e971-44b5-9c69-a27db1248217",
   "metadata": {},
   "outputs": [
    {
     "data": {
      "text/plain": [
       "15"
      ]
     },
     "execution_count": 19,
     "metadata": {},
     "output_type": "execute_result"
    }
   ],
   "source": [
    "len(X_train[0])"
   ]
  },
  {
   "cell_type": "code",
   "execution_count": 21,
   "id": "ea9fda44-e3fb-4083-9daa-af395502c563",
   "metadata": {},
   "outputs": [
    {
     "data": {
      "text/plain": [
       "9"
      ]
     },
     "execution_count": 21,
     "metadata": {},
     "output_type": "execute_result"
    }
   ],
   "source": [
    "len(X_train[0][0])"
   ]
  },
  {
   "cell_type": "markdown",
   "id": "da9ef1e6-a73f-4f2d-b3bc-8682e587c5b4",
   "metadata": {},
   "source": [
    "## 4 Set up Bayesian optimizer"
   ]
  },
  {
   "cell_type": "code",
   "execution_count": 23,
   "id": "629ca9b9-951c-44f6-88ee-a50949468623",
   "metadata": {},
   "outputs": [
    {
     "data": {
      "text/plain": [
       "'multilabel-indicator'"
      ]
     },
     "execution_count": 23,
     "metadata": {},
     "output_type": "execute_result"
    }
   ],
   "source": [
    "from sklearn.utils.multiclass import type_of_target\n",
    "type_of_target(y_train)"
   ]
  },
  {
   "cell_type": "code",
   "execution_count": 25,
   "id": "d86c6335-5ed7-43c1-8da3-dfb893a34429",
   "metadata": {},
   "outputs": [],
   "source": [
    "timesteps = len(X_train[0])\n",
    "input_dim = len(X_train[0][0])\n",
    "n_classes = 15"
   ]
  },
  {
   "cell_type": "code",
   "execution_count": 33,
   "id": "b7ec70ab-7154-4a8a-b092-fbae94093c45",
   "metadata": {
    "scrolled": true
   },
   "outputs": [
    {
     "name": "stdout",
     "output_type": "stream",
     "text": [
      "|   iter    |  target   | activa... | batch_... |  dropout  | dropou... |  epochs   |  kernel   |  layers1  |  layers2  | learni... |  neurons  | normal... | optimizer |\n",
      "-------------------------------------------------------------------------------------------------------------------------------------------------------------------------\n"
     ]
    },
    {
     "name": "stderr",
     "output_type": "stream",
     "text": [
      "C:\\Users\\ashle\\anaconda3\\Lib\\site-packages\\keras\\src\\layers\\convolutional\\base_conv.py:107: UserWarning: Do not pass an `input_shape`/`input_dim` argument to a layer. When using Sequential models, prefer using an `Input(shape)` object as the first layer in the model instead.\n",
      "  super().__init__(activity_regularizer=activity_regularizer, **kwargs)\n"
     ]
    },
    {
     "name": "stdout",
     "output_type": "stream",
     "text": [
      "\u001b[1m168/168\u001b[0m \u001b[32m━━━━━━━━━━━━━━━━━━━━\u001b[0m\u001b[37m\u001b[0m \u001b[1m0s\u001b[0m 1ms/step\n",
      "Fold 1 F1 score: 0.0\n"
     ]
    },
    {
     "name": "stderr",
     "output_type": "stream",
     "text": [
      "C:\\Users\\ashle\\anaconda3\\Lib\\site-packages\\sklearn\\metrics\\_classification.py:1509: UndefinedMetricWarning: F-score is ill-defined and being set to 0.0 in labels with no true nor predicted samples. Use `zero_division` parameter to control this behavior.\n",
      "  _warn_prf(average, modifier, f\"{metric.capitalize()} is\", len(result))\n",
      "C:\\Users\\ashle\\anaconda3\\Lib\\site-packages\\keras\\src\\layers\\convolutional\\base_conv.py:107: UserWarning: Do not pass an `input_shape`/`input_dim` argument to a layer. When using Sequential models, prefer using an `Input(shape)` object as the first layer in the model instead.\n",
      "  super().__init__(activity_regularizer=activity_regularizer, **kwargs)\n"
     ]
    },
    {
     "name": "stdout",
     "output_type": "stream",
     "text": [
      "\u001b[1m168/168\u001b[0m \u001b[32m━━━━━━━━━━━━━━━━━━━━\u001b[0m\u001b[37m\u001b[0m \u001b[1m0s\u001b[0m 1ms/step\n",
      "Fold 2 F1 score: 0.0\n"
     ]
    },
    {
     "name": "stderr",
     "output_type": "stream",
     "text": [
      "C:\\Users\\ashle\\anaconda3\\Lib\\site-packages\\sklearn\\metrics\\_classification.py:1509: UndefinedMetricWarning: F-score is ill-defined and being set to 0.0 in labels with no true nor predicted samples. Use `zero_division` parameter to control this behavior.\n",
      "  _warn_prf(average, modifier, f\"{metric.capitalize()} is\", len(result))\n",
      "C:\\Users\\ashle\\anaconda3\\Lib\\site-packages\\keras\\src\\layers\\convolutional\\base_conv.py:107: UserWarning: Do not pass an `input_shape`/`input_dim` argument to a layer. When using Sequential models, prefer using an `Input(shape)` object as the first layer in the model instead.\n",
      "  super().__init__(activity_regularizer=activity_regularizer, **kwargs)\n"
     ]
    },
    {
     "name": "stdout",
     "output_type": "stream",
     "text": [
      "\u001b[1m168/168\u001b[0m \u001b[32m━━━━━━━━━━━━━━━━━━━━\u001b[0m\u001b[37m\u001b[0m \u001b[1m0s\u001b[0m 1ms/step\n",
      "Fold 3 F1 score: 0.0\n",
      "Average F1 score across all folds: 0.0\n",
      "| \u001b[39m1        \u001b[39m | \u001b[39m0.0      \u001b[39m | \u001b[39m2.622    \u001b[39m | \u001b[39m122.5    \u001b[39m | \u001b[39m0.732    \u001b[39m | \u001b[39m0.2993   \u001b[39m | \u001b[39m16.24    \u001b[39m | \u001b[39m1.312    \u001b[39m | \u001b[39m1.232    \u001b[39m | \u001b[39m4.465    \u001b[39m | \u001b[39m0.06015  \u001b[39m | \u001b[39m73.73    \u001b[39m | \u001b[39m0.02058  \u001b[39m | \u001b[39m6.789    \u001b[39m |\n"
     ]
    },
    {
     "name": "stderr",
     "output_type": "stream",
     "text": [
      "C:\\Users\\ashle\\anaconda3\\Lib\\site-packages\\sklearn\\metrics\\_classification.py:1509: UndefinedMetricWarning: F-score is ill-defined and being set to 0.0 in labels with no true nor predicted samples. Use `zero_division` parameter to control this behavior.\n",
      "  _warn_prf(average, modifier, f\"{metric.capitalize()} is\", len(result))\n",
      "C:\\Users\\ashle\\anaconda3\\Lib\\site-packages\\keras\\src\\layers\\convolutional\\base_conv.py:107: UserWarning: Do not pass an `input_shape`/`input_dim` argument to a layer. When using Sequential models, prefer using an `Input(shape)` object as the first layer in the model instead.\n",
      "  super().__init__(activity_regularizer=activity_regularizer, **kwargs)\n"
     ]
    },
    {
     "name": "stdout",
     "output_type": "stream",
     "text": [
      "\u001b[1m168/168\u001b[0m \u001b[32m━━━━━━━━━━━━━━━━━━━━\u001b[0m\u001b[37m\u001b[0m \u001b[1m0s\u001b[0m 934us/step\n",
      "Fold 1 F1 score: 0.25418866315702004\n"
     ]
    },
    {
     "name": "stderr",
     "output_type": "stream",
     "text": [
      "C:\\Users\\ashle\\anaconda3\\Lib\\site-packages\\keras\\src\\layers\\convolutional\\base_conv.py:107: UserWarning: Do not pass an `input_shape`/`input_dim` argument to a layer. When using Sequential models, prefer using an `Input(shape)` object as the first layer in the model instead.\n",
      "  super().__init__(activity_regularizer=activity_regularizer, **kwargs)\n"
     ]
    },
    {
     "name": "stdout",
     "output_type": "stream",
     "text": [
      "\u001b[1m168/168\u001b[0m \u001b[32m━━━━━━━━━━━━━━━━━━━━\u001b[0m\u001b[37m\u001b[0m \u001b[1m0s\u001b[0m 934us/step\n",
      "Fold 2 F1 score: 0.23604597456529944\n"
     ]
    },
    {
     "name": "stderr",
     "output_type": "stream",
     "text": [
      "C:\\Users\\ashle\\anaconda3\\Lib\\site-packages\\keras\\src\\layers\\convolutional\\base_conv.py:107: UserWarning: Do not pass an `input_shape`/`input_dim` argument to a layer. When using Sequential models, prefer using an `Input(shape)` object as the first layer in the model instead.\n",
      "  super().__init__(activity_regularizer=activity_regularizer, **kwargs)\n"
     ]
    },
    {
     "name": "stdout",
     "output_type": "stream",
     "text": [
      "\u001b[1m168/168\u001b[0m \u001b[32m━━━━━━━━━━━━━━━━━━━━\u001b[0m\u001b[37m\u001b[0m \u001b[1m0s\u001b[0m 1ms/step\n",
      "Fold 3 F1 score: 0.24005753739911714\n",
      "Average F1 score across all folds: 0.24343072504047888\n",
      "| \u001b[35m2        \u001b[39m | \u001b[35m0.2434   \u001b[39m | \u001b[35m5.827    \u001b[39m | \u001b[35m39.78    \u001b[39m | \u001b[35m0.1818   \u001b[39m | \u001b[35m0.0917   \u001b[39m | \u001b[35m22.17    \u001b[39m | \u001b[35m2.05     \u001b[39m | \u001b[35m2.728    \u001b[39m | \u001b[35m2.165    \u001b[39m | \u001b[35m0.06122  \u001b[39m | \u001b[35m22.55    \u001b[39m | \u001b[35m0.2921   \u001b[39m | \u001b[35m2.565    \u001b[39m |\n"
     ]
    },
    {
     "name": "stderr",
     "output_type": "stream",
     "text": [
      "C:\\Users\\ashle\\anaconda3\\Lib\\site-packages\\sklearn\\metrics\\_classification.py:1509: UndefinedMetricWarning: F-score is ill-defined and being set to 0.0 in labels with no true nor predicted samples. Use `zero_division` parameter to control this behavior.\n",
      "  _warn_prf(average, modifier, f\"{metric.capitalize()} is\", len(result))\n",
      "C:\\Users\\ashle\\anaconda3\\Lib\\site-packages\\keras\\src\\layers\\convolutional\\base_conv.py:107: UserWarning: Do not pass an `input_shape`/`input_dim` argument to a layer. When using Sequential models, prefer using an `Input(shape)` object as the first layer in the model instead.\n",
      "  super().__init__(activity_regularizer=activity_regularizer, **kwargs)\n"
     ]
    },
    {
     "name": "stdout",
     "output_type": "stream",
     "text": [
      "\u001b[1m168/168\u001b[0m \u001b[32m━━━━━━━━━━━━━━━━━━━━\u001b[0m\u001b[37m\u001b[0m \u001b[1m0s\u001b[0m 1ms/step\n",
      "Fold 1 F1 score: 0.4542760657414283\n"
     ]
    },
    {
     "name": "stderr",
     "output_type": "stream",
     "text": [
      "C:\\Users\\ashle\\anaconda3\\Lib\\site-packages\\sklearn\\metrics\\_classification.py:1509: UndefinedMetricWarning: F-score is ill-defined and being set to 0.0 in labels with no true nor predicted samples. Use `zero_division` parameter to control this behavior.\n",
      "  _warn_prf(average, modifier, f\"{metric.capitalize()} is\", len(result))\n",
      "C:\\Users\\ashle\\anaconda3\\Lib\\site-packages\\keras\\src\\layers\\convolutional\\base_conv.py:107: UserWarning: Do not pass an `input_shape`/`input_dim` argument to a layer. When using Sequential models, prefer using an `Input(shape)` object as the first layer in the model instead.\n",
      "  super().__init__(activity_regularizer=activity_regularizer, **kwargs)\n"
     ]
    },
    {
     "name": "stdout",
     "output_type": "stream",
     "text": [
      "\u001b[1m168/168\u001b[0m \u001b[32m━━━━━━━━━━━━━━━━━━━━\u001b[0m\u001b[37m\u001b[0m \u001b[1m0s\u001b[0m 1ms/step\n",
      "Fold 2 F1 score: 0.9318477183572579\n"
     ]
    },
    {
     "name": "stderr",
     "output_type": "stream",
     "text": [
      "C:\\Users\\ashle\\anaconda3\\Lib\\site-packages\\sklearn\\metrics\\_classification.py:1509: UndefinedMetricWarning: F-score is ill-defined and being set to 0.0 in labels with no true nor predicted samples. Use `zero_division` parameter to control this behavior.\n",
      "  _warn_prf(average, modifier, f\"{metric.capitalize()} is\", len(result))\n",
      "C:\\Users\\ashle\\anaconda3\\Lib\\site-packages\\keras\\src\\layers\\convolutional\\base_conv.py:107: UserWarning: Do not pass an `input_shape`/`input_dim` argument to a layer. When using Sequential models, prefer using an `Input(shape)` object as the first layer in the model instead.\n",
      "  super().__init__(activity_regularizer=activity_regularizer, **kwargs)\n"
     ]
    },
    {
     "name": "stdout",
     "output_type": "stream",
     "text": [
      "\u001b[1m168/168\u001b[0m \u001b[32m━━━━━━━━━━━━━━━━━━━━\u001b[0m\u001b[37m\u001b[0m \u001b[1m0s\u001b[0m 1ms/step\n",
      "Fold 3 F1 score: 0.7276732930172024\n",
      "Average F1 score across all folds: 0.7045990257052962\n",
      "| \u001b[35m3        \u001b[39m | \u001b[35m0.7046   \u001b[39m | \u001b[35m3.192    \u001b[39m | \u001b[35m103.9    \u001b[39m | \u001b[35m0.1997   \u001b[39m | \u001b[35m0.2571   \u001b[39m | \u001b[35m33.7     \u001b[39m | \u001b[35m1.093    \u001b[39m | \u001b[35m3.43     \u001b[39m | \u001b[35m1.682    \u001b[39m | \u001b[35m0.006599 \u001b[39m | \u001b[35m95.4     \u001b[39m | \u001b[35m0.9656   \u001b[39m | \u001b[35m5.659    \u001b[39m |\n"
     ]
    },
    {
     "name": "stderr",
     "output_type": "stream",
     "text": [
      "C:\\Users\\ashle\\anaconda3\\Lib\\site-packages\\sklearn\\metrics\\_classification.py:1509: UndefinedMetricWarning: F-score is ill-defined and being set to 0.0 in labels with no true nor predicted samples. Use `zero_division` parameter to control this behavior.\n",
      "  _warn_prf(average, modifier, f\"{metric.capitalize()} is\", len(result))\n",
      "C:\\Users\\ashle\\anaconda3\\Lib\\site-packages\\keras\\src\\layers\\convolutional\\base_conv.py:107: UserWarning: Do not pass an `input_shape`/`input_dim` argument to a layer. When using Sequential models, prefer using an `Input(shape)` object as the first layer in the model instead.\n",
      "  super().__init__(activity_regularizer=activity_regularizer, **kwargs)\n"
     ]
    },
    {
     "name": "stdout",
     "output_type": "stream",
     "text": [
      "\u001b[1m168/168\u001b[0m \u001b[32m━━━━━━━━━━━━━━━━━━━━\u001b[0m\u001b[37m\u001b[0m \u001b[1m0s\u001b[0m 1ms/step\n",
      "Fold 1 F1 score: 0.6926996597619585\n"
     ]
    },
    {
     "name": "stderr",
     "output_type": "stream",
     "text": [
      "C:\\Users\\ashle\\anaconda3\\Lib\\site-packages\\sklearn\\metrics\\_classification.py:1509: UndefinedMetricWarning: F-score is ill-defined and being set to 0.0 in labels with no true nor predicted samples. Use `zero_division` parameter to control this behavior.\n",
      "  _warn_prf(average, modifier, f\"{metric.capitalize()} is\", len(result))\n",
      "C:\\Users\\ashle\\anaconda3\\Lib\\site-packages\\keras\\src\\layers\\convolutional\\base_conv.py:107: UserWarning: Do not pass an `input_shape`/`input_dim` argument to a layer. When using Sequential models, prefer using an `Input(shape)` object as the first layer in the model instead.\n",
      "  super().__init__(activity_regularizer=activity_regularizer, **kwargs)\n"
     ]
    },
    {
     "name": "stdout",
     "output_type": "stream",
     "text": [
      "\u001b[1m168/168\u001b[0m \u001b[32m━━━━━━━━━━━━━━━━━━━━\u001b[0m\u001b[37m\u001b[0m \u001b[1m0s\u001b[0m 1ms/step\n",
      "Fold 2 F1 score: 0.6632812946149471\n"
     ]
    },
    {
     "name": "stderr",
     "output_type": "stream",
     "text": [
      "C:\\Users\\ashle\\anaconda3\\Lib\\site-packages\\sklearn\\metrics\\_classification.py:1509: UndefinedMetricWarning: F-score is ill-defined and being set to 0.0 in labels with no true nor predicted samples. Use `zero_division` parameter to control this behavior.\n",
      "  _warn_prf(average, modifier, f\"{metric.capitalize()} is\", len(result))\n",
      "C:\\Users\\ashle\\anaconda3\\Lib\\site-packages\\keras\\src\\layers\\convolutional\\base_conv.py:107: UserWarning: Do not pass an `input_shape`/`input_dim` argument to a layer. When using Sequential models, prefer using an `Input(shape)` object as the first layer in the model instead.\n",
      "  super().__init__(activity_regularizer=activity_regularizer, **kwargs)\n"
     ]
    },
    {
     "name": "stdout",
     "output_type": "stream",
     "text": [
      "\u001b[1m168/168\u001b[0m \u001b[32m━━━━━━━━━━━━━━━━━━━━\u001b[0m\u001b[37m\u001b[0m \u001b[1m0s\u001b[0m 1ms/step\n",
      "Fold 3 F1 score: 0.6793543055459057\n",
      "Average F1 score across all folds: 0.6784450866409371\n",
      "| \u001b[39m4        \u001b[39m | \u001b[39m0.6784   \u001b[39m | \u001b[39m2.132    \u001b[39m | \u001b[39m26.94    \u001b[39m | \u001b[39m0.6842   \u001b[39m | \u001b[39m0.2201   \u001b[39m | \u001b[39m14.88    \u001b[39m | \u001b[39m1.99     \u001b[39m | \u001b[39m1.138    \u001b[39m | \u001b[39m4.637    \u001b[39m | \u001b[39m0.02595  \u001b[39m | \u001b[39m69.63    \u001b[39m | \u001b[39m0.3117   \u001b[39m | \u001b[39m3.64     \u001b[39m |\n"
     ]
    },
    {
     "name": "stderr",
     "output_type": "stream",
     "text": [
      "C:\\Users\\ashle\\anaconda3\\Lib\\site-packages\\sklearn\\metrics\\_classification.py:1509: UndefinedMetricWarning: F-score is ill-defined and being set to 0.0 in labels with no true nor predicted samples. Use `zero_division` parameter to control this behavior.\n",
      "  _warn_prf(average, modifier, f\"{metric.capitalize()} is\", len(result))\n",
      "C:\\Users\\ashle\\anaconda3\\Lib\\site-packages\\keras\\src\\layers\\convolutional\\base_conv.py:107: UserWarning: Do not pass an `input_shape`/`input_dim` argument to a layer. When using Sequential models, prefer using an `Input(shape)` object as the first layer in the model instead.\n",
      "  super().__init__(activity_regularizer=activity_regularizer, **kwargs)\n"
     ]
    },
    {
     "name": "stdout",
     "output_type": "stream",
     "text": [
      "\u001b[1m168/168\u001b[0m \u001b[32m━━━━━━━━━━━━━━━━━━━━\u001b[0m\u001b[37m\u001b[0m \u001b[1m0s\u001b[0m 1ms/step\n",
      "Fold 1 F1 score: 0.9651133322771052\n"
     ]
    },
    {
     "name": "stderr",
     "output_type": "stream",
     "text": [
      "C:\\Users\\ashle\\anaconda3\\Lib\\site-packages\\sklearn\\metrics\\_classification.py:1509: UndefinedMetricWarning: F-score is ill-defined and being set to 0.0 in labels with no true nor predicted samples. Use `zero_division` parameter to control this behavior.\n",
      "  _warn_prf(average, modifier, f\"{metric.capitalize()} is\", len(result))\n",
      "C:\\Users\\ashle\\anaconda3\\Lib\\site-packages\\keras\\src\\layers\\convolutional\\base_conv.py:107: UserWarning: Do not pass an `input_shape`/`input_dim` argument to a layer. When using Sequential models, prefer using an `Input(shape)` object as the first layer in the model instead.\n",
      "  super().__init__(activity_regularizer=activity_regularizer, **kwargs)\n"
     ]
    },
    {
     "name": "stdout",
     "output_type": "stream",
     "text": [
      "\u001b[1m168/168\u001b[0m \u001b[32m━━━━━━━━━━━━━━━━━━━━\u001b[0m\u001b[37m\u001b[0m \u001b[1m0s\u001b[0m 1ms/step\n",
      "Fold 2 F1 score: 0.960333286999615\n"
     ]
    },
    {
     "name": "stderr",
     "output_type": "stream",
     "text": [
      "C:\\Users\\ashle\\anaconda3\\Lib\\site-packages\\sklearn\\metrics\\_classification.py:1509: UndefinedMetricWarning: F-score is ill-defined and being set to 0.0 in labels with no true nor predicted samples. Use `zero_division` parameter to control this behavior.\n",
      "  _warn_prf(average, modifier, f\"{metric.capitalize()} is\", len(result))\n",
      "C:\\Users\\ashle\\anaconda3\\Lib\\site-packages\\keras\\src\\layers\\convolutional\\base_conv.py:107: UserWarning: Do not pass an `input_shape`/`input_dim` argument to a layer. When using Sequential models, prefer using an `Input(shape)` object as the first layer in the model instead.\n",
      "  super().__init__(activity_regularizer=activity_regularizer, **kwargs)\n"
     ]
    },
    {
     "name": "stdout",
     "output_type": "stream",
     "text": [
      "\u001b[1m168/168\u001b[0m \u001b[32m━━━━━━━━━━━━━━━━━━━━\u001b[0m\u001b[37m\u001b[0m \u001b[1m0s\u001b[0m 1ms/step\n",
      "Fold 3 F1 score: 0.9609899042079305\n",
      "Average F1 score across all folds: 0.9621455078282168\n",
      "| \u001b[35m5        \u001b[39m | \u001b[35m0.9621   \u001b[39m | \u001b[35m3.827    \u001b[39m | \u001b[35m36.7     \u001b[39m | \u001b[35m0.9696   \u001b[39m | \u001b[35m0.3876   \u001b[39m | \u001b[35m47.58    \u001b[39m | \u001b[35m2.79     \u001b[39m | \u001b[35m3.392    \u001b[39m | \u001b[35m4.687    \u001b[39m | \u001b[35m0.00894  \u001b[39m | \u001b[35m27.64    \u001b[39m | \u001b[35m0.04523  \u001b[39m | \u001b[35m2.277    \u001b[39m |\n"
     ]
    },
    {
     "name": "stderr",
     "output_type": "stream",
     "text": [
      "C:\\Users\\ashle\\anaconda3\\Lib\\site-packages\\sklearn\\metrics\\_classification.py:1509: UndefinedMetricWarning: F-score is ill-defined and being set to 0.0 in labels with no true nor predicted samples. Use `zero_division` parameter to control this behavior.\n",
      "  _warn_prf(average, modifier, f\"{metric.capitalize()} is\", len(result))\n",
      "C:\\Users\\ashle\\anaconda3\\Lib\\site-packages\\keras\\src\\layers\\convolutional\\base_conv.py:107: UserWarning: Do not pass an `input_shape`/`input_dim` argument to a layer. When using Sequential models, prefer using an `Input(shape)` object as the first layer in the model instead.\n",
      "  super().__init__(activity_regularizer=activity_regularizer, **kwargs)\n"
     ]
    },
    {
     "name": "stdout",
     "output_type": "stream",
     "text": [
      "\u001b[1m168/168\u001b[0m \u001b[32m━━━━━━━━━━━━━━━━━━━━\u001b[0m\u001b[37m\u001b[0m \u001b[1m0s\u001b[0m 964us/step\n",
      "Fold 1 F1 score: 0.5937323521146268\n"
     ]
    },
    {
     "name": "stderr",
     "output_type": "stream",
     "text": [
      "C:\\Users\\ashle\\anaconda3\\Lib\\site-packages\\sklearn\\metrics\\_classification.py:1509: UndefinedMetricWarning: F-score is ill-defined and being set to 0.0 in labels with no true nor predicted samples. Use `zero_division` parameter to control this behavior.\n",
      "  _warn_prf(average, modifier, f\"{metric.capitalize()} is\", len(result))\n",
      "C:\\Users\\ashle\\anaconda3\\Lib\\site-packages\\keras\\src\\layers\\convolutional\\base_conv.py:107: UserWarning: Do not pass an `input_shape`/`input_dim` argument to a layer. When using Sequential models, prefer using an `Input(shape)` object as the first layer in the model instead.\n",
      "  super().__init__(activity_regularizer=activity_regularizer, **kwargs)\n"
     ]
    },
    {
     "name": "stdout",
     "output_type": "stream",
     "text": [
      "\u001b[1m168/168\u001b[0m \u001b[32m━━━━━━━━━━━━━━━━━━━━\u001b[0m\u001b[37m\u001b[0m \u001b[1m1s\u001b[0m 4ms/step\n",
      "Fold 2 F1 score: 0.5557734782996049\n"
     ]
    },
    {
     "name": "stderr",
     "output_type": "stream",
     "text": [
      "C:\\Users\\ashle\\anaconda3\\Lib\\site-packages\\keras\\src\\layers\\convolutional\\base_conv.py:107: UserWarning: Do not pass an `input_shape`/`input_dim` argument to a layer. When using Sequential models, prefer using an `Input(shape)` object as the first layer in the model instead.\n",
      "  super().__init__(activity_regularizer=activity_regularizer, **kwargs)\n"
     ]
    },
    {
     "name": "stdout",
     "output_type": "stream",
     "text": [
      "\u001b[1m168/168\u001b[0m \u001b[32m━━━━━━━━━━━━━━━━━━━━\u001b[0m\u001b[37m\u001b[0m \u001b[1m0s\u001b[0m 958us/step\n",
      "Fold 3 F1 score: 0.5405181317618305\n",
      "Average F1 score across all folds: 0.563341320725354\n",
      "| \u001b[39m6        \u001b[39m | \u001b[39m0.5633   \u001b[39m | \u001b[39m5.061    \u001b[39m | \u001b[39m36.57    \u001b[39m | \u001b[39m0.9054   \u001b[39m | \u001b[39m0.371    \u001b[39m | \u001b[39m47.31    \u001b[39m | \u001b[39m2.758    \u001b[39m | \u001b[39m3.198    \u001b[39m | \u001b[39m1.609    \u001b[39m | \u001b[39m0.02222  \u001b[39m | \u001b[39m28.16    \u001b[39m | \u001b[39m0.2206   \u001b[39m | \u001b[39m3.335    \u001b[39m |\n"
     ]
    },
    {
     "name": "stderr",
     "output_type": "stream",
     "text": [
      "C:\\Users\\ashle\\anaconda3\\Lib\\site-packages\\sklearn\\metrics\\_classification.py:1509: UndefinedMetricWarning: F-score is ill-defined and being set to 0.0 in labels with no true nor predicted samples. Use `zero_division` parameter to control this behavior.\n",
      "  _warn_prf(average, modifier, f\"{metric.capitalize()} is\", len(result))\n",
      "C:\\Users\\ashle\\anaconda3\\Lib\\site-packages\\keras\\src\\layers\\convolutional\\base_conv.py:107: UserWarning: Do not pass an `input_shape`/`input_dim` argument to a layer. When using Sequential models, prefer using an `Input(shape)` object as the first layer in the model instead.\n",
      "  super().__init__(activity_regularizer=activity_regularizer, **kwargs)\n"
     ]
    },
    {
     "name": "stdout",
     "output_type": "stream",
     "text": [
      "\u001b[1m168/168\u001b[0m \u001b[32m━━━━━━━━━━━━━━━━━━━━\u001b[0m\u001b[37m\u001b[0m \u001b[1m0s\u001b[0m 1ms/step\n",
      "Fold 1 F1 score: 0.9264316969069493\n"
     ]
    },
    {
     "name": "stderr",
     "output_type": "stream",
     "text": [
      "C:\\Users\\ashle\\anaconda3\\Lib\\site-packages\\sklearn\\metrics\\_classification.py:1509: UndefinedMetricWarning: F-score is ill-defined and being set to 0.0 in labels with no true nor predicted samples. Use `zero_division` parameter to control this behavior.\n",
      "  _warn_prf(average, modifier, f\"{metric.capitalize()} is\", len(result))\n",
      "C:\\Users\\ashle\\anaconda3\\Lib\\site-packages\\keras\\src\\layers\\convolutional\\base_conv.py:107: UserWarning: Do not pass an `input_shape`/`input_dim` argument to a layer. When using Sequential models, prefer using an `Input(shape)` object as the first layer in the model instead.\n",
      "  super().__init__(activity_regularizer=activity_regularizer, **kwargs)\n"
     ]
    },
    {
     "name": "stdout",
     "output_type": "stream",
     "text": [
      "\u001b[1m168/168\u001b[0m \u001b[32m━━━━━━━━━━━━━━━━━━━━\u001b[0m\u001b[37m\u001b[0m \u001b[1m0s\u001b[0m 1ms/step\n",
      "Fold 2 F1 score: 0.95508725562691\n"
     ]
    },
    {
     "name": "stderr",
     "output_type": "stream",
     "text": [
      "C:\\Users\\ashle\\anaconda3\\Lib\\site-packages\\sklearn\\metrics\\_classification.py:1509: UndefinedMetricWarning: F-score is ill-defined and being set to 0.0 in labels with no true nor predicted samples. Use `zero_division` parameter to control this behavior.\n",
      "  _warn_prf(average, modifier, f\"{metric.capitalize()} is\", len(result))\n",
      "C:\\Users\\ashle\\anaconda3\\Lib\\site-packages\\keras\\src\\layers\\convolutional\\base_conv.py:107: UserWarning: Do not pass an `input_shape`/`input_dim` argument to a layer. When using Sequential models, prefer using an `Input(shape)` object as the first layer in the model instead.\n",
      "  super().__init__(activity_regularizer=activity_regularizer, **kwargs)\n"
     ]
    },
    {
     "name": "stdout",
     "output_type": "stream",
     "text": [
      "\u001b[1m168/168\u001b[0m \u001b[32m━━━━━━━━━━━━━━━━━━━━\u001b[0m\u001b[37m\u001b[0m \u001b[1m0s\u001b[0m 1ms/step\n",
      "Fold 3 F1 score: 0.9515890992143542\n",
      "Average F1 score across all folds: 0.9443693505827379\n",
      "| \u001b[39m7        \u001b[39m | \u001b[39m0.9444   \u001b[39m | \u001b[39m2.297    \u001b[39m | \u001b[39m36.56    \u001b[39m | \u001b[39m0.3483   \u001b[39m | \u001b[39m0.1981   \u001b[39m | \u001b[39m47.58    \u001b[39m | \u001b[39m2.241    \u001b[39m | \u001b[39m4.411    \u001b[39m | \u001b[39m2.475    \u001b[39m | \u001b[39m0.09887  \u001b[39m | \u001b[39m29.61    \u001b[39m | \u001b[39m0.3678   \u001b[39m | \u001b[39m1.969    \u001b[39m |\n"
     ]
    },
    {
     "name": "stderr",
     "output_type": "stream",
     "text": [
      "C:\\Users\\ashle\\anaconda3\\Lib\\site-packages\\sklearn\\metrics\\_classification.py:1509: UndefinedMetricWarning: F-score is ill-defined and being set to 0.0 in labels with no true nor predicted samples. Use `zero_division` parameter to control this behavior.\n",
      "  _warn_prf(average, modifier, f\"{metric.capitalize()} is\", len(result))\n",
      "C:\\Users\\ashle\\anaconda3\\Lib\\site-packages\\keras\\src\\layers\\convolutional\\base_conv.py:107: UserWarning: Do not pass an `input_shape`/`input_dim` argument to a layer. When using Sequential models, prefer using an `Input(shape)` object as the first layer in the model instead.\n",
      "  super().__init__(activity_regularizer=activity_regularizer, **kwargs)\n"
     ]
    },
    {
     "name": "stdout",
     "output_type": "stream",
     "text": [
      "\u001b[1m168/168\u001b[0m \u001b[32m━━━━━━━━━━━━━━━━━━━━\u001b[0m\u001b[37m\u001b[0m \u001b[1m0s\u001b[0m 1ms/step\n",
      "Fold 1 F1 score: 0.8746124903012733\n"
     ]
    },
    {
     "name": "stderr",
     "output_type": "stream",
     "text": [
      "C:\\Users\\ashle\\anaconda3\\Lib\\site-packages\\sklearn\\metrics\\_classification.py:1509: UndefinedMetricWarning: F-score is ill-defined and being set to 0.0 in labels with no true nor predicted samples. Use `zero_division` parameter to control this behavior.\n",
      "  _warn_prf(average, modifier, f\"{metric.capitalize()} is\", len(result))\n",
      "C:\\Users\\ashle\\anaconda3\\Lib\\site-packages\\keras\\src\\layers\\convolutional\\base_conv.py:107: UserWarning: Do not pass an `input_shape`/`input_dim` argument to a layer. When using Sequential models, prefer using an `Input(shape)` object as the first layer in the model instead.\n",
      "  super().__init__(activity_regularizer=activity_regularizer, **kwargs)\n"
     ]
    },
    {
     "name": "stdout",
     "output_type": "stream",
     "text": [
      "\u001b[1m168/168\u001b[0m \u001b[32m━━━━━━━━━━━━━━━━━━━━\u001b[0m\u001b[37m\u001b[0m \u001b[1m0s\u001b[0m 1ms/step\n",
      "Fold 2 F1 score: 0.8757687786277087\n"
     ]
    },
    {
     "name": "stderr",
     "output_type": "stream",
     "text": [
      "C:\\Users\\ashle\\anaconda3\\Lib\\site-packages\\sklearn\\metrics\\_classification.py:1509: UndefinedMetricWarning: F-score is ill-defined and being set to 0.0 in labels with no true nor predicted samples. Use `zero_division` parameter to control this behavior.\n",
      "  _warn_prf(average, modifier, f\"{metric.capitalize()} is\", len(result))\n",
      "C:\\Users\\ashle\\anaconda3\\Lib\\site-packages\\keras\\src\\layers\\convolutional\\base_conv.py:107: UserWarning: Do not pass an `input_shape`/`input_dim` argument to a layer. When using Sequential models, prefer using an `Input(shape)` object as the first layer in the model instead.\n",
      "  super().__init__(activity_regularizer=activity_regularizer, **kwargs)\n"
     ]
    },
    {
     "name": "stdout",
     "output_type": "stream",
     "text": [
      "\u001b[1m168/168\u001b[0m \u001b[32m━━━━━━━━━━━━━━━━━━━━\u001b[0m\u001b[37m\u001b[0m \u001b[1m0s\u001b[0m 1ms/step\n",
      "Fold 3 F1 score: 0.8752145204835139\n",
      "Average F1 score across all folds: 0.875198596470832\n",
      "| \u001b[39m8        \u001b[39m | \u001b[39m0.8752   \u001b[39m | \u001b[39m0.9335   \u001b[39m | \u001b[39m35.96    \u001b[39m | \u001b[39m0.2512   \u001b[39m | \u001b[39m0.1082   \u001b[39m | \u001b[39m45.91    \u001b[39m | \u001b[39m1.761    \u001b[39m | \u001b[39m2.982    \u001b[39m | \u001b[39m4.375    \u001b[39m | \u001b[39m0.02518  \u001b[39m | \u001b[39m32.34    \u001b[39m | \u001b[39m0.1273   \u001b[39m | \u001b[39m4.555    \u001b[39m |\n"
     ]
    },
    {
     "name": "stderr",
     "output_type": "stream",
     "text": [
      "C:\\Users\\ashle\\anaconda3\\Lib\\site-packages\\sklearn\\metrics\\_classification.py:1509: UndefinedMetricWarning: F-score is ill-defined and being set to 0.0 in labels with no true nor predicted samples. Use `zero_division` parameter to control this behavior.\n",
      "  _warn_prf(average, modifier, f\"{metric.capitalize()} is\", len(result))\n",
      "C:\\Users\\ashle\\anaconda3\\Lib\\site-packages\\keras\\src\\layers\\convolutional\\base_conv.py:107: UserWarning: Do not pass an `input_shape`/`input_dim` argument to a layer. When using Sequential models, prefer using an `Input(shape)` object as the first layer in the model instead.\n",
      "  super().__init__(activity_regularizer=activity_regularizer, **kwargs)\n"
     ]
    },
    {
     "name": "stdout",
     "output_type": "stream",
     "text": [
      "\u001b[1m168/168\u001b[0m \u001b[32m━━━━━━━━━━━━━━━━━━━━\u001b[0m\u001b[37m\u001b[0m \u001b[1m0s\u001b[0m 1ms/step\n",
      "Fold 1 F1 score: 0.9137804838722984\n"
     ]
    },
    {
     "name": "stderr",
     "output_type": "stream",
     "text": [
      "C:\\Users\\ashle\\anaconda3\\Lib\\site-packages\\sklearn\\metrics\\_classification.py:1509: UndefinedMetricWarning: F-score is ill-defined and being set to 0.0 in labels with no true nor predicted samples. Use `zero_division` parameter to control this behavior.\n",
      "  _warn_prf(average, modifier, f\"{metric.capitalize()} is\", len(result))\n",
      "C:\\Users\\ashle\\anaconda3\\Lib\\site-packages\\keras\\src\\layers\\convolutional\\base_conv.py:107: UserWarning: Do not pass an `input_shape`/`input_dim` argument to a layer. When using Sequential models, prefer using an `Input(shape)` object as the first layer in the model instead.\n",
      "  super().__init__(activity_regularizer=activity_regularizer, **kwargs)\n"
     ]
    },
    {
     "name": "stdout",
     "output_type": "stream",
     "text": [
      "\u001b[1m168/168\u001b[0m \u001b[32m━━━━━━━━━━━━━━━━━━━━\u001b[0m\u001b[37m\u001b[0m \u001b[1m0s\u001b[0m 1ms/step\n",
      "Fold 2 F1 score: 0.8653665948278803\n"
     ]
    },
    {
     "name": "stderr",
     "output_type": "stream",
     "text": [
      "C:\\Users\\ashle\\anaconda3\\Lib\\site-packages\\sklearn\\metrics\\_classification.py:1509: UndefinedMetricWarning: F-score is ill-defined and being set to 0.0 in labels with no true nor predicted samples. Use `zero_division` parameter to control this behavior.\n",
      "  _warn_prf(average, modifier, f\"{metric.capitalize()} is\", len(result))\n",
      "C:\\Users\\ashle\\anaconda3\\Lib\\site-packages\\keras\\src\\layers\\convolutional\\base_conv.py:107: UserWarning: Do not pass an `input_shape`/`input_dim` argument to a layer. When using Sequential models, prefer using an `Input(shape)` object as the first layer in the model instead.\n",
      "  super().__init__(activity_regularizer=activity_regularizer, **kwargs)\n"
     ]
    },
    {
     "name": "stdout",
     "output_type": "stream",
     "text": [
      "\u001b[1m168/168\u001b[0m \u001b[32m━━━━━━━━━━━━━━━━━━━━\u001b[0m\u001b[37m\u001b[0m \u001b[1m0s\u001b[0m 1ms/step\n",
      "Fold 3 F1 score: 0.9238268061363341\n",
      "Average F1 score across all folds: 0.9009912949455042\n",
      "| \u001b[39m9        \u001b[39m | \u001b[39m0.901    \u001b[39m | \u001b[39m2.02     \u001b[39m | \u001b[39m36.05    \u001b[39m | \u001b[39m0.2487   \u001b[39m | \u001b[39m0.3204   \u001b[39m | \u001b[39m42.19    \u001b[39m | \u001b[39m1.325    \u001b[39m | \u001b[39m3.56     \u001b[39m | \u001b[39m4.489    \u001b[39m | \u001b[39m0.09375  \u001b[39m | \u001b[39m26.38    \u001b[39m | \u001b[39m0.171    \u001b[39m | \u001b[39m2.498    \u001b[39m |\n"
     ]
    },
    {
     "name": "stderr",
     "output_type": "stream",
     "text": [
      "C:\\Users\\ashle\\anaconda3\\Lib\\site-packages\\sklearn\\metrics\\_classification.py:1509: UndefinedMetricWarning: F-score is ill-defined and being set to 0.0 in labels with no true nor predicted samples. Use `zero_division` parameter to control this behavior.\n",
      "  _warn_prf(average, modifier, f\"{metric.capitalize()} is\", len(result))\n",
      "C:\\Users\\ashle\\anaconda3\\Lib\\site-packages\\keras\\src\\layers\\convolutional\\base_conv.py:107: UserWarning: Do not pass an `input_shape`/`input_dim` argument to a layer. When using Sequential models, prefer using an `Input(shape)` object as the first layer in the model instead.\n",
      "  super().__init__(activity_regularizer=activity_regularizer, **kwargs)\n"
     ]
    },
    {
     "name": "stdout",
     "output_type": "stream",
     "text": [
      "\u001b[1m168/168\u001b[0m \u001b[32m━━━━━━━━━━━━━━━━━━━━\u001b[0m\u001b[37m\u001b[0m \u001b[1m1s\u001b[0m 1ms/step\n",
      "Fold 1 F1 score: 0.49991206721722437\n"
     ]
    },
    {
     "name": "stderr",
     "output_type": "stream",
     "text": [
      "C:\\Users\\ashle\\anaconda3\\Lib\\site-packages\\sklearn\\metrics\\_classification.py:1509: UndefinedMetricWarning: F-score is ill-defined and being set to 0.0 in labels with no true nor predicted samples. Use `zero_division` parameter to control this behavior.\n",
      "  _warn_prf(average, modifier, f\"{metric.capitalize()} is\", len(result))\n",
      "C:\\Users\\ashle\\anaconda3\\Lib\\site-packages\\keras\\src\\layers\\convolutional\\base_conv.py:107: UserWarning: Do not pass an `input_shape`/`input_dim` argument to a layer. When using Sequential models, prefer using an `Input(shape)` object as the first layer in the model instead.\n",
      "  super().__init__(activity_regularizer=activity_regularizer, **kwargs)\n"
     ]
    },
    {
     "name": "stdout",
     "output_type": "stream",
     "text": [
      "\u001b[1m168/168\u001b[0m \u001b[32m━━━━━━━━━━━━━━━━━━━━\u001b[0m\u001b[37m\u001b[0m \u001b[1m0s\u001b[0m 1ms/step\n",
      "Fold 2 F1 score: 0.5060825658185705\n"
     ]
    },
    {
     "name": "stderr",
     "output_type": "stream",
     "text": [
      "C:\\Users\\ashle\\anaconda3\\Lib\\site-packages\\sklearn\\metrics\\_classification.py:1509: UndefinedMetricWarning: F-score is ill-defined and being set to 0.0 in labels with no true nor predicted samples. Use `zero_division` parameter to control this behavior.\n",
      "  _warn_prf(average, modifier, f\"{metric.capitalize()} is\", len(result))\n",
      "C:\\Users\\ashle\\anaconda3\\Lib\\site-packages\\keras\\src\\layers\\convolutional\\base_conv.py:107: UserWarning: Do not pass an `input_shape`/`input_dim` argument to a layer. When using Sequential models, prefer using an `Input(shape)` object as the first layer in the model instead.\n",
      "  super().__init__(activity_regularizer=activity_regularizer, **kwargs)\n"
     ]
    },
    {
     "name": "stdout",
     "output_type": "stream",
     "text": [
      "\u001b[1m168/168\u001b[0m \u001b[32m━━━━━━━━━━━━━━━━━━━━\u001b[0m\u001b[37m\u001b[0m \u001b[1m0s\u001b[0m 1ms/step\n",
      "Fold 3 F1 score: 0.6999939474474873\n",
      "Average F1 score across all folds: 0.568662860161094\n",
      "| \u001b[39m10       \u001b[39m | \u001b[39m0.5687   \u001b[39m | \u001b[39m0.4927   \u001b[39m | \u001b[39m40.94    \u001b[39m | \u001b[39m0.1031   \u001b[39m | \u001b[39m0.2293   \u001b[39m | \u001b[39m45.02    \u001b[39m | \u001b[39m2.944    \u001b[39m | \u001b[39m4.744    \u001b[39m | \u001b[39m4.254    \u001b[39m | \u001b[39m0.08459  \u001b[39m | \u001b[39m27.62    \u001b[39m | \u001b[39m0.8068   \u001b[39m | \u001b[39m3.864    \u001b[39m |\n"
     ]
    },
    {
     "name": "stderr",
     "output_type": "stream",
     "text": [
      "C:\\Users\\ashle\\anaconda3\\Lib\\site-packages\\sklearn\\metrics\\_classification.py:1509: UndefinedMetricWarning: F-score is ill-defined and being set to 0.0 in labels with no true nor predicted samples. Use `zero_division` parameter to control this behavior.\n",
      "  _warn_prf(average, modifier, f\"{metric.capitalize()} is\", len(result))\n",
      "C:\\Users\\ashle\\anaconda3\\Lib\\site-packages\\keras\\src\\layers\\convolutional\\base_conv.py:107: UserWarning: Do not pass an `input_shape`/`input_dim` argument to a layer. When using Sequential models, prefer using an `Input(shape)` object as the first layer in the model instead.\n",
      "  super().__init__(activity_regularizer=activity_regularizer, **kwargs)\n"
     ]
    },
    {
     "name": "stdout",
     "output_type": "stream",
     "text": [
      "\u001b[1m168/168\u001b[0m \u001b[32m━━━━━━━━━━━━━━━━━━━━\u001b[0m\u001b[37m\u001b[0m \u001b[1m0s\u001b[0m 1ms/step\n",
      "Fold 1 F1 score: 0.6160509512423896\n"
     ]
    },
    {
     "name": "stderr",
     "output_type": "stream",
     "text": [
      "C:\\Users\\ashle\\anaconda3\\Lib\\site-packages\\sklearn\\metrics\\_classification.py:1509: UndefinedMetricWarning: F-score is ill-defined and being set to 0.0 in labels with no true nor predicted samples. Use `zero_division` parameter to control this behavior.\n",
      "  _warn_prf(average, modifier, f\"{metric.capitalize()} is\", len(result))\n",
      "C:\\Users\\ashle\\anaconda3\\Lib\\site-packages\\keras\\src\\layers\\convolutional\\base_conv.py:107: UserWarning: Do not pass an `input_shape`/`input_dim` argument to a layer. When using Sequential models, prefer using an `Input(shape)` object as the first layer in the model instead.\n",
      "  super().__init__(activity_regularizer=activity_regularizer, **kwargs)\n"
     ]
    },
    {
     "name": "stdout",
     "output_type": "stream",
     "text": [
      "\u001b[1m168/168\u001b[0m \u001b[32m━━━━━━━━━━━━━━━━━━━━\u001b[0m\u001b[37m\u001b[0m \u001b[1m0s\u001b[0m 1ms/step\n",
      "Fold 2 F1 score: 0.6089258788299733\n"
     ]
    },
    {
     "name": "stderr",
     "output_type": "stream",
     "text": [
      "C:\\Users\\ashle\\anaconda3\\Lib\\site-packages\\sklearn\\metrics\\_classification.py:1509: UndefinedMetricWarning: F-score is ill-defined and being set to 0.0 in labels with no true nor predicted samples. Use `zero_division` parameter to control this behavior.\n",
      "  _warn_prf(average, modifier, f\"{metric.capitalize()} is\", len(result))\n",
      "C:\\Users\\ashle\\anaconda3\\Lib\\site-packages\\keras\\src\\layers\\convolutional\\base_conv.py:107: UserWarning: Do not pass an `input_shape`/`input_dim` argument to a layer. When using Sequential models, prefer using an `Input(shape)` object as the first layer in the model instead.\n",
      "  super().__init__(activity_regularizer=activity_regularizer, **kwargs)\n"
     ]
    },
    {
     "name": "stdout",
     "output_type": "stream",
     "text": [
      "\u001b[1m168/168\u001b[0m \u001b[32m━━━━━━━━━━━━━━━━━━━━\u001b[0m\u001b[37m\u001b[0m \u001b[1m0s\u001b[0m 1ms/step\n",
      "Fold 3 F1 score: 0.5899877139698133\n",
      "Average F1 score across all folds: 0.6049881813473921\n",
      "| \u001b[39m11       \u001b[39m | \u001b[39m0.605    \u001b[39m | \u001b[39m3.595    \u001b[39m | \u001b[39m32.06    \u001b[39m | \u001b[39m0.08173  \u001b[39m | \u001b[39m0.3861   \u001b[39m | \u001b[39m44.33    \u001b[39m | \u001b[39m2.323    \u001b[39m | \u001b[39m4.417    \u001b[39m | \u001b[39m4.772    \u001b[39m | \u001b[39m0.06478  \u001b[39m | \u001b[39m32.5     \u001b[39m | \u001b[39m0.5789   \u001b[39m | \u001b[39m3.073    \u001b[39m |\n"
     ]
    },
    {
     "name": "stderr",
     "output_type": "stream",
     "text": [
      "C:\\Users\\ashle\\anaconda3\\Lib\\site-packages\\sklearn\\metrics\\_classification.py:1509: UndefinedMetricWarning: F-score is ill-defined and being set to 0.0 in labels with no true nor predicted samples. Use `zero_division` parameter to control this behavior.\n",
      "  _warn_prf(average, modifier, f\"{metric.capitalize()} is\", len(result))\n",
      "C:\\Users\\ashle\\anaconda3\\Lib\\site-packages\\keras\\src\\layers\\convolutional\\base_conv.py:107: UserWarning: Do not pass an `input_shape`/`input_dim` argument to a layer. When using Sequential models, prefer using an `Input(shape)` object as the first layer in the model instead.\n",
      "  super().__init__(activity_regularizer=activity_regularizer, **kwargs)\n"
     ]
    },
    {
     "name": "stdout",
     "output_type": "stream",
     "text": [
      "\u001b[1m168/168\u001b[0m \u001b[32m━━━━━━━━━━━━━━━━━━━━\u001b[0m\u001b[37m\u001b[0m \u001b[1m0s\u001b[0m 1ms/step\n",
      "Fold 1 F1 score: 0.6751082200506549\n"
     ]
    },
    {
     "name": "stderr",
     "output_type": "stream",
     "text": [
      "C:\\Users\\ashle\\anaconda3\\Lib\\site-packages\\sklearn\\metrics\\_classification.py:1509: UndefinedMetricWarning: F-score is ill-defined and being set to 0.0 in labels with no true nor predicted samples. Use `zero_division` parameter to control this behavior.\n",
      "  _warn_prf(average, modifier, f\"{metric.capitalize()} is\", len(result))\n",
      "C:\\Users\\ashle\\anaconda3\\Lib\\site-packages\\keras\\src\\layers\\convolutional\\base_conv.py:107: UserWarning: Do not pass an `input_shape`/`input_dim` argument to a layer. When using Sequential models, prefer using an `Input(shape)` object as the first layer in the model instead.\n",
      "  super().__init__(activity_regularizer=activity_regularizer, **kwargs)\n"
     ]
    },
    {
     "name": "stdout",
     "output_type": "stream",
     "text": [
      "\u001b[1m168/168\u001b[0m \u001b[32m━━━━━━━━━━━━━━━━━━━━\u001b[0m\u001b[37m\u001b[0m \u001b[1m0s\u001b[0m 1ms/step\n",
      "Fold 2 F1 score: 0.6862042690943974\n"
     ]
    },
    {
     "name": "stderr",
     "output_type": "stream",
     "text": [
      "C:\\Users\\ashle\\anaconda3\\Lib\\site-packages\\sklearn\\metrics\\_classification.py:1509: UndefinedMetricWarning: F-score is ill-defined and being set to 0.0 in labels with no true nor predicted samples. Use `zero_division` parameter to control this behavior.\n",
      "  _warn_prf(average, modifier, f\"{metric.capitalize()} is\", len(result))\n",
      "C:\\Users\\ashle\\anaconda3\\Lib\\site-packages\\keras\\src\\layers\\convolutional\\base_conv.py:107: UserWarning: Do not pass an `input_shape`/`input_dim` argument to a layer. When using Sequential models, prefer using an `Input(shape)` object as the first layer in the model instead.\n",
      "  super().__init__(activity_regularizer=activity_regularizer, **kwargs)\n"
     ]
    },
    {
     "name": "stdout",
     "output_type": "stream",
     "text": [
      "\u001b[1m168/168\u001b[0m \u001b[32m━━━━━━━━━━━━━━━━━━━━\u001b[0m\u001b[37m\u001b[0m \u001b[1m0s\u001b[0m 1ms/step\n",
      "Fold 3 F1 score: 0.6681936582839318\n",
      "Average F1 score across all folds: 0.6765020491429947\n",
      "| \u001b[39m12       \u001b[39m | \u001b[39m0.6765   \u001b[39m | \u001b[39m1.763    \u001b[39m | \u001b[39m34.97    \u001b[39m | \u001b[39m0.4997   \u001b[39m | \u001b[39m0.4893   \u001b[39m | \u001b[39m45.84    \u001b[39m | \u001b[39m1.867    \u001b[39m | \u001b[39m4.036    \u001b[39m | \u001b[39m3.853    \u001b[39m | \u001b[39m0.01318  \u001b[39m | \u001b[39m26.24    \u001b[39m | \u001b[39m0.4134   \u001b[39m | \u001b[39m3.574    \u001b[39m |\n"
     ]
    },
    {
     "name": "stderr",
     "output_type": "stream",
     "text": [
      "C:\\Users\\ashle\\anaconda3\\Lib\\site-packages\\sklearn\\metrics\\_classification.py:1509: UndefinedMetricWarning: F-score is ill-defined and being set to 0.0 in labels with no true nor predicted samples. Use `zero_division` parameter to control this behavior.\n",
      "  _warn_prf(average, modifier, f\"{metric.capitalize()} is\", len(result))\n",
      "C:\\Users\\ashle\\anaconda3\\Lib\\site-packages\\keras\\src\\layers\\convolutional\\base_conv.py:107: UserWarning: Do not pass an `input_shape`/`input_dim` argument to a layer. When using Sequential models, prefer using an `Input(shape)` object as the first layer in the model instead.\n",
      "  super().__init__(activity_regularizer=activity_regularizer, **kwargs)\n"
     ]
    },
    {
     "name": "stdout",
     "output_type": "stream",
     "text": [
      "\u001b[1m168/168\u001b[0m \u001b[32m━━━━━━━━━━━━━━━━━━━━\u001b[0m\u001b[37m\u001b[0m \u001b[1m0s\u001b[0m 994us/step\n",
      "Fold 1 F1 score: 0.9473756760278812\n"
     ]
    },
    {
     "name": "stderr",
     "output_type": "stream",
     "text": [
      "C:\\Users\\ashle\\anaconda3\\Lib\\site-packages\\sklearn\\metrics\\_classification.py:1509: UndefinedMetricWarning: F-score is ill-defined and being set to 0.0 in labels with no true nor predicted samples. Use `zero_division` parameter to control this behavior.\n",
      "  _warn_prf(average, modifier, f\"{metric.capitalize()} is\", len(result))\n",
      "C:\\Users\\ashle\\anaconda3\\Lib\\site-packages\\keras\\src\\layers\\convolutional\\base_conv.py:107: UserWarning: Do not pass an `input_shape`/`input_dim` argument to a layer. When using Sequential models, prefer using an `Input(shape)` object as the first layer in the model instead.\n",
      "  super().__init__(activity_regularizer=activity_regularizer, **kwargs)\n"
     ]
    },
    {
     "name": "stdout",
     "output_type": "stream",
     "text": [
      "\u001b[1m168/168\u001b[0m \u001b[32m━━━━━━━━━━━━━━━━━━━━\u001b[0m\u001b[37m\u001b[0m \u001b[1m0s\u001b[0m 976us/step\n",
      "Fold 2 F1 score: 0.9617647495375596\n"
     ]
    },
    {
     "name": "stderr",
     "output_type": "stream",
     "text": [
      "C:\\Users\\ashle\\anaconda3\\Lib\\site-packages\\sklearn\\metrics\\_classification.py:1509: UndefinedMetricWarning: F-score is ill-defined and being set to 0.0 in labels with no true nor predicted samples. Use `zero_division` parameter to control this behavior.\n",
      "  _warn_prf(average, modifier, f\"{metric.capitalize()} is\", len(result))\n",
      "C:\\Users\\ashle\\anaconda3\\Lib\\site-packages\\keras\\src\\layers\\convolutional\\base_conv.py:107: UserWarning: Do not pass an `input_shape`/`input_dim` argument to a layer. When using Sequential models, prefer using an `Input(shape)` object as the first layer in the model instead.\n",
      "  super().__init__(activity_regularizer=activity_regularizer, **kwargs)\n"
     ]
    },
    {
     "name": "stdout",
     "output_type": "stream",
     "text": [
      "\u001b[1m168/168\u001b[0m \u001b[32m━━━━━━━━━━━━━━━━━━━━\u001b[0m\u001b[37m\u001b[0m \u001b[1m0s\u001b[0m 994us/step\n",
      "Fold 3 F1 score: 0.9027637505814986\n",
      "Average F1 score across all folds: 0.9373013920489798\n",
      "| \u001b[39m13       \u001b[39m | \u001b[39m0.9373   \u001b[39m | \u001b[39m4.174    \u001b[39m | \u001b[39m34.95    \u001b[39m | \u001b[39m0.7606   \u001b[39m | \u001b[39m0.09311  \u001b[39m | \u001b[39m39.6     \u001b[39m | \u001b[39m2.706    \u001b[39m | \u001b[39m2.988    \u001b[39m | \u001b[39m3.288    \u001b[39m | \u001b[39m0.09767  \u001b[39m | \u001b[39m27.91    \u001b[39m | \u001b[39m0.1774   \u001b[39m | \u001b[39m1.947    \u001b[39m |\n"
     ]
    },
    {
     "name": "stderr",
     "output_type": "stream",
     "text": [
      "C:\\Users\\ashle\\anaconda3\\Lib\\site-packages\\sklearn\\metrics\\_classification.py:1509: UndefinedMetricWarning: F-score is ill-defined and being set to 0.0 in labels with no true nor predicted samples. Use `zero_division` parameter to control this behavior.\n",
      "  _warn_prf(average, modifier, f\"{metric.capitalize()} is\", len(result))\n",
      "C:\\Users\\ashle\\anaconda3\\Lib\\site-packages\\keras\\src\\layers\\convolutional\\base_conv.py:107: UserWarning: Do not pass an `input_shape`/`input_dim` argument to a layer. When using Sequential models, prefer using an `Input(shape)` object as the first layer in the model instead.\n",
      "  super().__init__(activity_regularizer=activity_regularizer, **kwargs)\n"
     ]
    },
    {
     "name": "stdout",
     "output_type": "stream",
     "text": [
      "\u001b[1m168/168\u001b[0m \u001b[32m━━━━━━━━━━━━━━━━━━━━\u001b[0m\u001b[37m\u001b[0m \u001b[1m0s\u001b[0m 1ms/step\n",
      "Fold 1 F1 score: 0.8178036596379616\n"
     ]
    },
    {
     "name": "stderr",
     "output_type": "stream",
     "text": [
      "C:\\Users\\ashle\\anaconda3\\Lib\\site-packages\\sklearn\\metrics\\_classification.py:1509: UndefinedMetricWarning: F-score is ill-defined and being set to 0.0 in labels with no true nor predicted samples. Use `zero_division` parameter to control this behavior.\n",
      "  _warn_prf(average, modifier, f\"{metric.capitalize()} is\", len(result))\n",
      "C:\\Users\\ashle\\anaconda3\\Lib\\site-packages\\keras\\src\\layers\\convolutional\\base_conv.py:107: UserWarning: Do not pass an `input_shape`/`input_dim` argument to a layer. When using Sequential models, prefer using an `Input(shape)` object as the first layer in the model instead.\n",
      "  super().__init__(activity_regularizer=activity_regularizer, **kwargs)\n"
     ]
    },
    {
     "name": "stdout",
     "output_type": "stream",
     "text": [
      "\u001b[1m168/168\u001b[0m \u001b[32m━━━━━━━━━━━━━━━━━━━━\u001b[0m\u001b[37m\u001b[0m \u001b[1m0s\u001b[0m 1ms/step\n",
      "Fold 2 F1 score: 0.8168379170219973\n"
     ]
    },
    {
     "name": "stderr",
     "output_type": "stream",
     "text": [
      "C:\\Users\\ashle\\anaconda3\\Lib\\site-packages\\sklearn\\metrics\\_classification.py:1509: UndefinedMetricWarning: F-score is ill-defined and being set to 0.0 in labels with no true nor predicted samples. Use `zero_division` parameter to control this behavior.\n",
      "  _warn_prf(average, modifier, f\"{metric.capitalize()} is\", len(result))\n",
      "C:\\Users\\ashle\\anaconda3\\Lib\\site-packages\\keras\\src\\layers\\convolutional\\base_conv.py:107: UserWarning: Do not pass an `input_shape`/`input_dim` argument to a layer. When using Sequential models, prefer using an `Input(shape)` object as the first layer in the model instead.\n",
      "  super().__init__(activity_regularizer=activity_regularizer, **kwargs)\n"
     ]
    },
    {
     "name": "stdout",
     "output_type": "stream",
     "text": [
      "\u001b[1m168/168\u001b[0m \u001b[32m━━━━━━━━━━━━━━━━━━━━\u001b[0m\u001b[37m\u001b[0m \u001b[1m1s\u001b[0m 1ms/step\n",
      "Fold 3 F1 score: 0.8312019850509159\n",
      "Average F1 score across all folds: 0.8219478539036249\n",
      "| \u001b[39m14       \u001b[39m | \u001b[39m0.8219   \u001b[39m | \u001b[39m4.809    \u001b[39m | \u001b[39m37.07    \u001b[39m | \u001b[39m0.5434   \u001b[39m | \u001b[39m0.4665   \u001b[39m | \u001b[39m42.62    \u001b[39m | \u001b[39m1.96     \u001b[39m | \u001b[39m2.821    \u001b[39m | \u001b[39m2.438    \u001b[39m | \u001b[39m0.06636  \u001b[39m | \u001b[39m30.4     \u001b[39m | \u001b[39m0.5575   \u001b[39m | \u001b[39m0.3118   \u001b[39m |\n"
     ]
    },
    {
     "name": "stderr",
     "output_type": "stream",
     "text": [
      "C:\\Users\\ashle\\anaconda3\\Lib\\site-packages\\sklearn\\metrics\\_classification.py:1509: UndefinedMetricWarning: F-score is ill-defined and being set to 0.0 in labels with no true nor predicted samples. Use `zero_division` parameter to control this behavior.\n",
      "  _warn_prf(average, modifier, f\"{metric.capitalize()} is\", len(result))\n",
      "C:\\Users\\ashle\\anaconda3\\Lib\\site-packages\\keras\\src\\layers\\convolutional\\base_conv.py:107: UserWarning: Do not pass an `input_shape`/`input_dim` argument to a layer. When using Sequential models, prefer using an `Input(shape)` object as the first layer in the model instead.\n",
      "  super().__init__(activity_regularizer=activity_regularizer, **kwargs)\n"
     ]
    },
    {
     "name": "stdout",
     "output_type": "stream",
     "text": [
      "\u001b[1m168/168\u001b[0m \u001b[32m━━━━━━━━━━━━━━━━━━━━\u001b[0m\u001b[37m\u001b[0m \u001b[1m0s\u001b[0m 1ms/step\n",
      "Fold 1 F1 score: 0.9359012712144775\n"
     ]
    },
    {
     "name": "stderr",
     "output_type": "stream",
     "text": [
      "C:\\Users\\ashle\\anaconda3\\Lib\\site-packages\\sklearn\\metrics\\_classification.py:1509: UndefinedMetricWarning: F-score is ill-defined and being set to 0.0 in labels with no true nor predicted samples. Use `zero_division` parameter to control this behavior.\n",
      "  _warn_prf(average, modifier, f\"{metric.capitalize()} is\", len(result))\n",
      "C:\\Users\\ashle\\anaconda3\\Lib\\site-packages\\keras\\src\\layers\\convolutional\\base_conv.py:107: UserWarning: Do not pass an `input_shape`/`input_dim` argument to a layer. When using Sequential models, prefer using an `Input(shape)` object as the first layer in the model instead.\n",
      "  super().__init__(activity_regularizer=activity_regularizer, **kwargs)\n"
     ]
    },
    {
     "name": "stdout",
     "output_type": "stream",
     "text": [
      "\u001b[1m168/168\u001b[0m \u001b[32m━━━━━━━━━━━━━━━━━━━━\u001b[0m\u001b[37m\u001b[0m \u001b[1m0s\u001b[0m 1ms/step\n",
      "Fold 2 F1 score: 0.9338936252505078\n"
     ]
    },
    {
     "name": "stderr",
     "output_type": "stream",
     "text": [
      "C:\\Users\\ashle\\anaconda3\\Lib\\site-packages\\sklearn\\metrics\\_classification.py:1509: UndefinedMetricWarning: F-score is ill-defined and being set to 0.0 in labels with no true nor predicted samples. Use `zero_division` parameter to control this behavior.\n",
      "  _warn_prf(average, modifier, f\"{metric.capitalize()} is\", len(result))\n",
      "C:\\Users\\ashle\\anaconda3\\Lib\\site-packages\\keras\\src\\layers\\convolutional\\base_conv.py:107: UserWarning: Do not pass an `input_shape`/`input_dim` argument to a layer. When using Sequential models, prefer using an `Input(shape)` object as the first layer in the model instead.\n",
      "  super().__init__(activity_regularizer=activity_regularizer, **kwargs)\n"
     ]
    },
    {
     "name": "stdout",
     "output_type": "stream",
     "text": [
      "\u001b[1m168/168\u001b[0m \u001b[32m━━━━━━━━━━━━━━━━━━━━\u001b[0m\u001b[37m\u001b[0m \u001b[1m0s\u001b[0m 1ms/step\n",
      "Fold 3 F1 score: 0.9275311586314772\n",
      "Average F1 score across all folds: 0.9324420183654875\n",
      "| \u001b[39m15       \u001b[39m | \u001b[39m0.9324   \u001b[39m | \u001b[39m4.117    \u001b[39m | \u001b[39m39.66    \u001b[39m | \u001b[39m0.8133   \u001b[39m | \u001b[39m0.4051   \u001b[39m | \u001b[39m49.18    \u001b[39m | \u001b[39m1.327    \u001b[39m | \u001b[39m3.601    \u001b[39m | \u001b[39m4.743    \u001b[39m | \u001b[39m0.04492  \u001b[39m | \u001b[39m33.27    \u001b[39m | \u001b[39m0.3678   \u001b[39m | \u001b[39m0.8695   \u001b[39m |\n",
      "=========================================================================================================================================================================\n",
      "Best parameters:  {'activation': 3.8269719554029575, 'batch_size': 36.70369901885903, 'dropout': 0.9695846277645586, 'dropout_rate': 0.3875664116805573, 'epochs': 47.579957662567566, 'kernel': 2.789654700855298, 'layers1': 3.3915999152443406, 'layers2': 4.687496940092467, 'learning_rate': 0.008940400954986757, 'neurons': 27.638457617723066, 'normalization': 0.045227288910538066, 'optimizer': 2.2773123153428503}\n"
     ]
    },
    {
     "name": "stderr",
     "output_type": "stream",
     "text": [
      "C:\\Users\\ashle\\anaconda3\\Lib\\site-packages\\sklearn\\metrics\\_classification.py:1509: UndefinedMetricWarning: F-score is ill-defined and being set to 0.0 in labels with no true nor predicted samples. Use `zero_division` parameter to control this behavior.\n",
      "  _warn_prf(average, modifier, f\"{metric.capitalize()} is\", len(result))\n"
     ]
    }
   ],
   "source": [
    "# Set up the parameters\n",
    "params ={\n",
    "    'activation': (0, 7),\n",
    "    'neurons': (10, 100),\n",
    "    'kernel': (1, 3),\n",
    "    'optimizer':(0,7),\n",
    "    'learning_rate': (0.0001, 0.1),\n",
    "    'batch_size': (16, 128),\n",
    "    'epochs':(10, 50),\n",
    "    'layers1':(1,5),\n",
    "    'layers2':(1,5),\n",
    "    'normalization':(0,1),\n",
    "    'dropout':(0,1),\n",
    "    'dropout_rate':(0,0.5)\n",
    "}\n",
    "\n",
    "# Activation and optimizer mappings\n",
    "activation_mapping = {\n",
    "    0: 'relu',\n",
    "    1: 'sigmoid',\n",
    "    2: 'softplus',\n",
    "    3: 'softsign',\n",
    "    4: 'tanh',\n",
    "    5: 'selu',\n",
    "    6: 'elu',\n",
    "    7: 'exponential'\n",
    "}\n",
    "optimizer_mapping = ['SGD', 'Adam', 'RMSprop', 'Adadelta', 'Adagrad', 'Adamax', 'Nadam', 'Ftrl']\n",
    "\n",
    "# Define Bayesian Optimization Function\n",
    "def bayesian_optimization_fn(neurons, activation, kernel, optimizer, learning_rate, batch_size, epochs,\n",
    "                             layers1, layers2, normalization, dropout, dropout_rate):\n",
    "    activation_func = activation_mapping[round(activation)]\n",
    "    optimizer_func = optimizer_mapping[round(optimizer)]\n",
    "    \n",
    "    def cnn_model():\n",
    "        model = Sequential()\n",
    "        model.add(Conv1D(int(neurons), kernel_size=int(kernel), activation=activation_func, \n",
    "                         input_shape=(X_train.shape[1], X_train.shape[2])))\n",
    "        if normalization > 0.5:\n",
    "            model.add(BatchNormalization())\n",
    "        for _ in range(int(layers1)):\n",
    "            model.add(Dense(int(neurons), activation=activation_func))\n",
    "        if dropout > 0.5:\n",
    "            model.add(Dropout(dropout_rate))\n",
    "        for _ in range(int(layers2)):\n",
    "            model.add(Dense(int(neurons), activation=activation_func))\n",
    "        model.add(MaxPooling1D())\n",
    "        model.add(Flatten())\n",
    "        model.add(Dense(15, activation='sigmoid'))  # Multi-label classification\n",
    "        model.compile(optimizer=optimizer_func, loss='binary_crossentropy') # Multi-label classification\n",
    "        return model\n",
    "         \n",
    "    nn = KerasClassifier(build_fn=cnn_model, epochs=int(epochs), batch_size=int(batch_size), verbose=0)\n",
    "\n",
    "    # Set up KFold\n",
    "    kfold = KFold(n_splits=3, shuffle=True, random_state=42)\n",
    "    \n",
    "    fold_f1_scores = []\n",
    "\n",
    "    # Manually iterate through the folds\n",
    "    for fold_num, (train_idx, val_idx) in enumerate(kfold.split(X_train, y_train), 1):  # Start fold_num at 1\n",
    "        # Split the data\n",
    "        X_train_fold, X_val_fold = X_train[train_idx], X_train[val_idx]\n",
    "        y_train_fold, y_val_fold = y_train[train_idx], y_train[val_idx]\n",
    "\n",
    "        # Fit the model\n",
    "        model = cnn_model()\n",
    "        history = model.fit(\n",
    "            X_train_fold, \n",
    "            y_train_fold, \n",
    "            epochs=int(epochs), \n",
    "            batch_size=int(batch_size), \n",
    "            validation_data=(X_val_fold, y_val_fold),\n",
    "            verbose=0\n",
    "        )\n",
    "        \n",
    "        # Make predictions on the validation fold\n",
    "        y_pred = model.predict(X_val_fold)\n",
    "        y_pred = (y_pred > 0.5).astype(int)\n",
    "        # Calculate the weighted F1-score\n",
    "        f1 = f1_score(y_val_fold, y_pred, average='weighted')\n",
    "        \n",
    "        fold_f1_scores.append(f1)\n",
    "        print(f'Fold {fold_num} F1 score: {f1}')\n",
    "\n",
    "    # Calculate and return the average F1-score\n",
    "    avg_f1 = np.mean(fold_f1_scores)\n",
    "    print(f'Average F1 score across all folds: {avg_f1}')\n",
    "    return avg_f1\n",
    "\n",
    "# Run Bayesian Optimization\n",
    "bayes_opt = BayesianOptimization(f=bayesian_optimization_fn, pbounds=params, random_state=42, verbose=2)\n",
    "bayes_opt.maximize(init_points=5, n_iter=10)\n",
    "\n",
    "# Get best parameters\n",
    "best_params = bayes_opt.max['params']\n",
    "print(\"Best parameters: \", best_params)"
   ]
  },
  {
   "cell_type": "markdown",
   "id": "6e4959dc-2dfb-4810-b7e1-0053eca26e47",
   "metadata": {},
   "source": [
    "## 5. CNN model with optimized hyperparameters"
   ]
  },
  {
   "cell_type": "markdown",
   "id": "9c99b026-38fd-4efb-aefe-16dbc669ced9",
   "metadata": {},
   "source": [
    "### 5.1 Run the CNN model"
   ]
  },
  {
   "cell_type": "code",
   "execution_count": 35,
   "id": "1aec4c4f-78bb-42d8-972f-f58890daa1ad",
   "metadata": {},
   "outputs": [
    {
     "name": "stderr",
     "output_type": "stream",
     "text": [
      "C:\\Users\\ashle\\anaconda3\\Lib\\site-packages\\keras\\src\\layers\\convolutional\\base_conv.py:107: UserWarning: Do not pass an `input_shape`/`input_dim` argument to a layer. When using Sequential models, prefer using an `Input(shape)` object as the first layer in the model instead.\n",
      "  super().__init__(activity_regularizer=activity_regularizer, **kwargs)\n"
     ]
    }
   ],
   "source": [
    "# Optimized parameters\n",
    "epochs = int(round(47.579957662567566))\n",
    "batch_size = int(round(36.70369901885903))\n",
    "n_hidden = int(round(27.638457617723066))\n",
    "dropout = 0.9695846277645586\n",
    "dropout_rate = 0.3875664116805573\n",
    "kernel_size = int(round(2.789654700855298))\n",
    "activation_value = 3.8269719554029575\n",
    "optimizer_value = 2.2773123153428503\n",
    "learning_rate = 0.008940400954986757\n",
    "layers1 = int(round(3.3915999152443406))\n",
    "layers2 = int(round(4.687496940092467))\n",
    "\n",
    "# Activation function and optimizer mappings\n",
    "activation_mapping = {\n",
    "    0: 'relu',\n",
    "    1: 'sigmoid',\n",
    "    2: 'softplus',\n",
    "    3: 'softsign',\n",
    "    4: 'tanh',\n",
    "    5: 'selu',\n",
    "    6: 'elu',\n",
    "    7: 'exponential'\n",
    "}\n",
    "\n",
    "optimizer_mapping = ['SGD', 'Adam', 'RMSprop', 'Adadelta', 'Adagrad', 'Adamax', 'Nadam', 'Ftrl']\n",
    "\n",
    "# Get the actual activation function and optimizer from the mappings\n",
    "activation = activation_mapping[round(activation_value)]  # Round the numeric value to map it\n",
    "optimizer = optimizer_mapping[round(optimizer_value)]  # Round the numeric value to map it\n",
    "\n",
    "# Input dimensions\n",
    "timesteps = len(X_train[0])\n",
    "input_dim = len(X_train[0][0])\n",
    "n_classes = 15\n",
    "\n",
    "# Set up the model\n",
    "model = Sequential()\n",
    "\n",
    "# Add Conv1D layer\n",
    "model.add(Conv1D(n_hidden, kernel_size=kernel_size, activation=activation, input_shape=(timesteps, input_dim)))\n",
    "\n",
    "# Add a fully connected Dense layer (layers1 neurons)\n",
    "model.add(Dense(layers1, activation=activation))\n",
    "\n",
    "# Add another Dense layer (layers2 neurons)\n",
    "model.add(Dense(layers2, activation=activation))\n",
    "\n",
    "# Add a Dropout layer\n",
    "model.add(Dropout(dropout_rate))\n",
    "\n",
    "# Add a MaxPooling layer\n",
    "model.add(MaxPooling1D())\n",
    "\n",
    "# Flatten the output for dense layers\n",
    "model.add(Flatten())\n",
    "\n",
    "# Final layer with n_classes neurons, sigmoid activation for multi-label classification\n",
    "model.add(Dense(n_classes, activation='sigmoid'))\n",
    "\n",
    "# Compile the model with the new learning rate\n",
    "optimizer_instance = optimizer  # Use the optimizer obtained from mapping\n",
    "model.compile(loss='binary_crossentropy', optimizer=optimizer_instance, metrics=['f1_score'])"
   ]
  },
  {
   "cell_type": "markdown",
   "id": "3733da5e-b57c-466c-9ff4-bb9ce76f327b",
   "metadata": {},
   "source": [
    "### 5.2 Make predictions"
   ]
  },
  {
   "cell_type": "code",
   "execution_count": 38,
   "id": "d7b40157-c113-49b2-987d-a90516f8bdc4",
   "metadata": {},
   "outputs": [
    {
     "name": "stdout",
     "output_type": "stream",
     "text": [
      "\u001b[1m216/216\u001b[0m \u001b[32m━━━━━━━━━━━━━━━━━━━━\u001b[0m\u001b[37m\u001b[0m \u001b[1m0s\u001b[0m 809us/step\n",
      "Raw predictions:\n",
      "[[0.6074804  0.5336623  0.51328754 ... 0.47866383 0.5248713  0.40688372]\n",
      " [0.5059459  0.4490594  0.40952158 ... 0.6125027  0.6241932  0.5404725 ]\n",
      " [0.54891247 0.50303775 0.7249528  ... 0.47735885 0.5337251  0.47645333]\n",
      " ...\n",
      " [0.46953437 0.44300264 0.6774686  ... 0.51548564 0.6180247  0.47458494]\n",
      " [0.6692983  0.56290746 0.37315354 ... 0.56980515 0.5373968  0.5345541 ]\n",
      " [0.59384114 0.5087777  0.4617463  ... 0.48193038 0.5266024  0.428539  ]]\n",
      "Binary predictions:\n",
      "[[1 1 1 ... 0 1 0]\n",
      " [1 0 0 ... 1 1 1]\n",
      " [1 1 1 ... 0 1 0]\n",
      " ...\n",
      " [0 0 1 ... 1 1 0]\n",
      " [1 1 0 ... 1 1 1]\n",
      " [1 1 0 ... 0 1 0]]\n"
     ]
    }
   ],
   "source": [
    "# Make predictions on the test set\n",
    "predictions = model.predict(X_test)\n",
    "\n",
    "# Print raw predictions (probabilities for each station)\n",
    "print(\"Raw predictions:\")\n",
    "print(predictions)\n",
    "\n",
    "# Threshold predictions for binary classification (set threshold at 0.5)\n",
    "threshold = 0.5\n",
    "binary_predictions = (predictions > threshold).astype(int)\n",
    "\n",
    "# Print the binary predictions (0s and 1s for each station)\n",
    "print(\"Binary predictions:\")\n",
    "print(binary_predictions)"
   ]
  },
  {
   "cell_type": "markdown",
   "id": "00353f29-ccff-4799-995c-9bbb744bc3ab",
   "metadata": {},
   "source": [
    "### 5.3 Classification reports"
   ]
  },
  {
   "cell_type": "code",
   "execution_count": 40,
   "id": "ab56a9fd-15d4-489b-9f1a-66a9cc7e7784",
   "metadata": {},
   "outputs": [
    {
     "name": "stdout",
     "output_type": "stream",
     "text": [
      "\u001b[1m503/503\u001b[0m \u001b[32m━━━━━━━━━━━━━━━━━━━━\u001b[0m\u001b[37m\u001b[0m \u001b[1m0s\u001b[0m 628us/step\n",
      "Training Set Classification Report:\n",
      "              precision    recall  f1-score   support\n",
      "\n",
      "           0       0.23      0.75      0.35      3984\n",
      "           1       0.25      0.31      0.28      5625\n",
      "           2       0.36      0.98      0.52      5237\n",
      "           3       0.02      0.03      0.02      3114\n",
      "           4       0.19      0.64      0.29      3480\n",
      "           5       0.10      0.04      0.05      3486\n",
      "           6       0.17      0.61      0.27      2696\n",
      "           7       0.33      0.96      0.50      4463\n",
      "           8       0.01      0.00      0.00      3370\n",
      "           9       0.62      0.88      0.73      7200\n",
      "          10       0.57      0.04      0.07      3381\n",
      "          11       0.15      0.70      0.24      2533\n",
      "          12       0.00      0.00      0.00         0\n",
      "          13       0.18      0.95      0.30      2757\n",
      "          14       0.06      0.45      0.10       837\n",
      "\n",
      "   micro avg       0.23      0.57      0.33     52163\n",
      "   macro avg       0.22      0.49      0.25     52163\n",
      "weighted avg       0.28      0.57      0.32     52163\n",
      " samples avg       0.24      0.37      0.25     52163\n",
      "\n",
      "Test Set Classification Report:\n",
      "              precision    recall  f1-score   support\n",
      "\n",
      "           0       0.22      0.75      0.34      1680\n",
      "           1       0.26      0.32      0.28      2367\n",
      "           2       0.35      0.98      0.51      2194\n",
      "           3       0.02      0.03      0.03      1345\n",
      "           4       0.18      0.65      0.29      1454\n",
      "           5       0.09      0.03      0.05      1473\n",
      "           6       0.16      0.58      0.25      1078\n",
      "           7       0.33      0.95      0.49      1913\n",
      "           8       0.01      0.00      0.00      1396\n",
      "           9       0.62      0.88      0.73      3047\n",
      "          10       0.56      0.04      0.08      1386\n",
      "          11       0.14      0.70      0.24      1046\n",
      "          12       0.00      0.00      0.00         0\n",
      "          13       0.17      0.95      0.29      1137\n",
      "          14       0.05      0.47      0.10       337\n",
      "\n",
      "   micro avg       0.23      0.57      0.32     21853\n",
      "   macro avg       0.21      0.49      0.24     21853\n",
      "weighted avg       0.27      0.57      0.32     21853\n",
      " samples avg       0.23      0.36      0.25     21853\n",
      "\n"
     ]
    },
    {
     "name": "stderr",
     "output_type": "stream",
     "text": [
      "C:\\Users\\ashle\\anaconda3\\Lib\\site-packages\\sklearn\\metrics\\_classification.py:1509: UndefinedMetricWarning: Recall is ill-defined and being set to 0.0 in labels with no true samples. Use `zero_division` parameter to control this behavior.\n",
      "  _warn_prf(average, modifier, f\"{metric.capitalize()} is\", len(result))\n",
      "C:\\Users\\ashle\\anaconda3\\Lib\\site-packages\\sklearn\\metrics\\_classification.py:1509: UndefinedMetricWarning: Recall is ill-defined and being set to 0.0 in samples with no true labels. Use `zero_division` parameter to control this behavior.\n",
      "  _warn_prf(average, modifier, f\"{metric.capitalize()} is\", len(result))\n",
      "C:\\Users\\ashle\\anaconda3\\Lib\\site-packages\\sklearn\\metrics\\_classification.py:1509: UndefinedMetricWarning: Recall is ill-defined and being set to 0.0 in labels with no true samples. Use `zero_division` parameter to control this behavior.\n",
      "  _warn_prf(average, modifier, f\"{metric.capitalize()} is\", len(result))\n",
      "C:\\Users\\ashle\\anaconda3\\Lib\\site-packages\\sklearn\\metrics\\_classification.py:1509: UndefinedMetricWarning: Recall is ill-defined and being set to 0.0 in samples with no true labels. Use `zero_division` parameter to control this behavior.\n",
      "  _warn_prf(average, modifier, f\"{metric.capitalize()} is\", len(result))\n"
     ]
    }
   ],
   "source": [
    "# Run a classsification report\n",
    "\n",
    "# Generate predictions on training set\n",
    "train_predictions = model.predict(X_train)\n",
    "train_binary_predictions = (train_predictions > threshold).astype(int)\n",
    "\n",
    "# Print classification reports for training and test sets\n",
    "print(\"Training Set Classification Report:\")\n",
    "print(classification_report(y_train, train_binary_predictions))\n",
    "\n",
    "print(\"Test Set Classification Report:\")\n",
    "print(classification_report(y_test, binary_predictions))"
   ]
  },
  {
   "cell_type": "markdown",
   "id": "877b7bc0-0706-4a8e-b9ce-ba9ddb1bd05b",
   "metadata": {},
   "source": [
    "### 5.4 Confusion matrices"
   ]
  },
  {
   "cell_type": "code",
   "execution_count": 42,
   "id": "05115efe-c964-4a06-9e5b-5bff88c2da6e",
   "metadata": {},
   "outputs": [
    {
     "name": "stdout",
     "output_type": "stream",
     "text": [
      "\u001b[1m216/216\u001b[0m \u001b[32m━━━━━━━━━━━━━━━━━━━━\u001b[0m\u001b[37m\u001b[0m \u001b[1m0s\u001b[0m 600us/step\n",
      "Pred        pleasant  unpleasant\n",
      "True                            \n",
      "pleasant       12353        9500\n",
      "unpleasant     42288       39134\n"
     ]
    }
   ],
   "source": [
    "# Define the labels (1 = pleasant, 0 = unpleasant)\n",
    "labels = ['unpleasant', 'pleasant']\n",
    "\n",
    "def confusion_matrix(Y_true, Y_pred):\n",
    "    Y_true = pd.Series([labels[y] for y in Y_true.flatten()])\n",
    "    Y_pred = pd.Series([labels[y] for y in Y_pred.flatten()])\n",
    "\n",
    "    return pd.crosstab(Y_true, Y_pred, rownames=['True'], colnames=['Pred'])\n",
    "\n",
    "# Evaluate and print the confusion matrix\n",
    "y_pred = (model.predict(X_test) > 0.5).astype(int)  # Apply threshold to get binary predictions\n",
    "print(confusion_matrix(y_test, y_pred))"
   ]
  },
  {
   "cell_type": "code",
   "execution_count": 46,
   "id": "bc63bab7-17cc-47f1-be01-6d9bc3587877",
   "metadata": {},
   "outputs": [
    {
     "name": "stdout",
     "output_type": "stream",
     "text": [
      "Accuracy:  0.4985427257322682\n"
     ]
    }
   ],
   "source": [
    "#Accuracy = (TP + TN) / (TP + TN + FP + FN)\n",
    "\n",
    "Accuracy = (12353+39134) / (12353+39134+9500+42288)\n",
    "print('Accuracy: ', Accuracy)"
   ]
  },
  {
   "cell_type": "code",
   "execution_count": 48,
   "id": "cf28d0fd-b52c-45d4-b13a-5bdac9af14f0",
   "metadata": {},
   "outputs": [
    {
     "name": "stdout",
     "output_type": "stream",
     "text": [
      "Confusion Matrix for BASEL:\n",
      "            pleasant  unpleasant\n",
      "pleasant         751        4454\n",
      "unpleasant       426        1254\n",
      "\n",
      "--------------------------------------------------\n",
      "\n",
      "Confusion Matrix for BELGRADE:\n",
      "            pleasant  unpleasant\n",
      "pleasant        2321        2197\n",
      "unpleasant      1615         752\n",
      "\n",
      "--------------------------------------------------\n",
      "\n",
      "Confusion Matrix for BUDAPEST:\n",
      "            pleasant  unpleasant\n",
      "pleasant         647        4044\n",
      "unpleasant        47        2147\n",
      "\n",
      "--------------------------------------------------\n",
      "\n",
      "Confusion Matrix for DEBILT:\n",
      "            pleasant  unpleasant\n",
      "pleasant        3586        1954\n",
      "unpleasant      1298          47\n",
      "\n",
      "--------------------------------------------------\n",
      "\n",
      "Confusion Matrix for DUSSELDORF:\n",
      "            pleasant  unpleasant\n",
      "pleasant        1231        4200\n",
      "unpleasant       511         943\n",
      "\n",
      "--------------------------------------------------\n",
      "\n",
      "Confusion Matrix for HEATHROW:\n",
      "            pleasant  unpleasant\n",
      "pleasant        4894         518\n",
      "unpleasant      1423          50\n",
      "\n",
      "--------------------------------------------------\n",
      "\n",
      "Confusion Matrix for KASSEL:\n",
      "            pleasant  unpleasant\n",
      "pleasant        2412        3395\n",
      "unpleasant       449         629\n",
      "\n",
      "--------------------------------------------------\n",
      "\n",
      "Confusion Matrix for LJUBLJANA:\n",
      "            pleasant  unpleasant\n",
      "pleasant        1305        3667\n",
      "unpleasant        92        1821\n",
      "\n",
      "--------------------------------------------------\n",
      "\n",
      "Confusion Matrix for MAASTRICHT:\n",
      "            pleasant  unpleasant\n",
      "pleasant        4771         718\n",
      "unpleasant      1391           5\n",
      "\n",
      "--------------------------------------------------\n",
      "\n",
      "Confusion Matrix for MADRID:\n",
      "            pleasant  unpleasant\n",
      "pleasant        2191        1647\n",
      "unpleasant       368        2679\n",
      "\n",
      "--------------------------------------------------\n",
      "\n",
      "Confusion Matrix for MUNCHENB:\n",
      "            pleasant  unpleasant\n",
      "pleasant        5452          47\n",
      "unpleasant      1327          59\n",
      "\n",
      "--------------------------------------------------\n",
      "\n",
      "Confusion Matrix for OSLO:\n",
      "            pleasant  unpleasant\n",
      "pleasant        1451        4388\n",
      "unpleasant       319         727\n",
      "\n",
      "--------------------------------------------------\n",
      "\n",
      "Confusion Matrix for SONNBLICK:\n",
      "            pleasant  unpleasant\n",
      "pleasant      3850.0      3035.0\n",
      "unpleasant       NaN         NaN\n",
      "\n",
      "--------------------------------------------------\n",
      "\n",
      "Confusion Matrix for STOCKHOLM:\n",
      "            pleasant  unpleasant\n",
      "pleasant         430        5318\n",
      "unpleasant        54        1083\n",
      "\n",
      "--------------------------------------------------\n",
      "\n",
      "Confusion Matrix for VALENTIA:\n",
      "            pleasant  unpleasant\n",
      "pleasant        3842        2706\n",
      "unpleasant       180         157\n",
      "\n",
      "--------------------------------------------------\n",
      "\n"
     ]
    }
   ],
   "source": [
    "# Weather stations list\n",
    "weather_stations = ['BASEL', 'BELGRADE', 'BUDAPEST', 'DEBILT', 'DUSSELDORF', 'HEATHROW', \n",
    "                    'KASSEL', 'LJUBLJANA', 'MAASTRICHT', 'MADRID', 'MUNCHENB', 'OSLO', 'SONNBLICK', \n",
    "                    'STOCKHOLM', 'VALENTIA']\n",
    "\n",
    "# Define the labels\n",
    "labels = ['pleasant', 'unpleasant']\n",
    "\n",
    "# Loop over each weather station to calculate and print the confusion matrix\n",
    "for i, station in enumerate(weather_stations):\n",
    "    # Get the true labels for the current station (y_test[:, i])\n",
    "    true_labels = y_test[:, i]  # Using the index of the weather station in y_test\n",
    "    \n",
    "    # Get the predicted labels for the current station (binary_predictions[:, i])\n",
    "    predicted_labels = binary_predictions[:, i]\n",
    "    \n",
    "    # Create the confusion matrix\n",
    "    cm = confusion_matrix(true_labels, predicted_labels)\n",
    "    \n",
    "    # Convert confusion matrix to DataFrame for better readability\n",
    "    cm_df = pd.DataFrame(cm, columns=labels, index=labels)\n",
    "    \n",
    "    # Print the confusion matrix for this station\n",
    "    print(f\"Confusion Matrix for {station}:\")\n",
    "    print(cm_df)\n",
    "    print(\"\\n\" + \"-\"*50 + \"\\n\")"
   ]
  },
  {
   "cell_type": "code",
   "execution_count": null,
   "id": "b184b6a2-e224-4c92-9fe8-cef01c8233e3",
   "metadata": {},
   "outputs": [],
   "source": []
  }
 ],
 "metadata": {
  "kernelspec": {
   "display_name": "Python 3 (ipykernel)",
   "language": "python",
   "name": "python3"
  },
  "language_info": {
   "codemirror_mode": {
    "name": "ipython",
    "version": 3
   },
   "file_extension": ".py",
   "mimetype": "text/x-python",
   "name": "python",
   "nbconvert_exporter": "python",
   "pygments_lexer": "ipython3",
   "version": "3.12.4"
  }
 },
 "nbformat": 4,
 "nbformat_minor": 5
}
